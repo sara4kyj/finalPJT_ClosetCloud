{
  "nbformat": 4,
  "nbformat_minor": 0,
  "metadata": {
    "colab": {
      "name": "PJT03_배경지우기.ipynb",
      "provenance": []
    },
    "kernelspec": {
      "name": "python3",
      "display_name": "Python 3"
    },
    "language_info": {
      "name": "python"
    }
  },
  "cells": [
    {
      "cell_type": "code",
      "source": [
        "import cv2, sys\n",
        "import numpy as np\n",
        "\n",
        "# image 저장 경로\n",
        "import os\n",
        "from collections import defaultdict"
      ],
      "metadata": {
        "id": "77TOlpXU-QMd"
      },
      "execution_count": 1,
      "outputs": []
    },
    {
      "cell_type": "code",
      "source": [
        "color_name = ['흰색', '라이트그레이', '회색', '다크 그레이', '검정색', '딥레드', '빨간색', \n",
        "              '라즈베리', '네온 핑크', '분홍색', '라이트 핑크', '페일 핑크', '피치', '코랄', \n",
        "              '라이트 오렌지', '네온 오렌지', '오렌지 핑크', '주황색', '아이보리', '라이트 옐로우',\n",
        "              '노란색', '머스타드', '네온 그린', '라이트 그린', '민트', '녹색', '올리브 그린', '카키',\n",
        "              '다크 그린', '스카이 블루', '네온 블루', '파란색', '네이비', '자주', '라벤더', '보라색', \n",
        "              '버건디', '갈색', '로즈골드', '레드 브라운', '카키 베이지', '카멜', '샌드', '베이지색', \n",
        "              '데님', '연청', '중청', '진청', '흑청']\n",
        "\n",
        "color_chip_hsv = [[160, 0, 240], [40, 6, 203], [40, 1, 146], [145, 11, 82], [160, 0, 0],\n",
        "                  [234, 152, 90], [237, 232, 111], [231, 157, 131], [215, 193, 116], [215, 224, 124],\n",
        "                  [232, 240, 197], [6, 115, 177], [11, 220, 184], [4, 193, 153], [20, 240, 120],\n",
        "                  [14, 238, 120], [237, 178, 142], [7, 224, 129], [43, 240, 232], [32, 219, 176],\n",
        "                  [37, 231, 138], [28, 209, 130], [45, 206, 122], [52, 238, 93], [113, 122, 121],\n",
        "                  [74, 190, 90], [46, 92, 91], [39, 53, 70], [84, 93, 45], [131, 179, 152],\n",
        "                  [139, 236, 113], [161, 234, 133], [147, 240, 46], [216, 240, 59], [182, 102, 153],\n",
        "                  [188, 207, 55], [234, 133, 72], [22, 121, 57], [7, 119, 115], [16, 240, 89],\n",
        "                  [29, 240, 76], [25, 163, 123], [24, 78, 165], [26, 166, 170], [140, 44, 106],\n",
        "                  [142, 77, 122], [142, 85, 63], [148, 48, 38], [100, 7, 32]]\n",
        "\n",
        "color_chip_rgb = [[255, 255, 255], [217, 217, 215], [156, 156, 155], [83, 86, 91], [0, 0, 0], \n",
        "                  [156, 35, 54], [232, 4, 22], [215, 64, 97], [223, 24, 149], [247, 17, 158],\n",
        "                  [255, 163, 182], [220, 166, 156], [250, 171, 141], [237, 104, 89], [254, 124, 0],\n",
        "                  [253, 92, 1], [228, 74, 86], [247, 68, 27], [254, 255, 239], [249, 225, 125],\n",
        "                  [251, 234, 43], [240, 179, 37], [212, 237, 22], [139, 197, 1], [64, 193, 171], \n",
        "                  [42, 172, 20], [122, 134, 60], [91, 90, 58], [29, 66, 33], [91, 193, 231],\n",
        "                  [2, 128, 238], [36, 30, 252], [0, 31, 98], [125, 0, 76], [167, 123, 202],\n",
        "                  [78, 8, 108], [118, 34, 47], [108, 42, 22], [183, 82, 62], [190, 77, 0], \n",
        "                  [161, 116, 0], [215, 154, 47], [201, 180, 149], [232, 195, 129],\n",
        "                  [61, 63, 107], [97, 134, 176], [38, 58, 84], [35, 40, 51], [33, 35, 34]]"
      ],
      "metadata": {
        "id": "u7znpFZM-QO_"
      },
      "execution_count": 2,
      "outputs": []
    },
    {
      "cell_type": "code",
      "execution_count": 3,
      "metadata": {
        "id": "lZ3_WuOb-Ovp"
      },
      "outputs": [],
      "source": [
        "def image_preprocess(target_item):\n",
        "    # image에 target_item을 받아와야 로직 실행이 가능\n",
        "    # image = cv2.imread(os.path.join(file_path , str(target_item) + '.jpg'), cv2.IMREAD_UNCHANGED)\n",
        "    image = cv2.imread(target_item, cv2.IMREAD_UNCHANGED)\n",
        "    image_hsv = cv2.cvtColor(image, cv2.COLOR_BGR2HSV)\n",
        "    image_gray = cv2.cvtColor(image, cv2.COLOR_BGR2GRAY)\n",
        "    image = cv2.cvtColor(image, cv2.COLOR_BGR2BGRA)\n",
        "    \n",
        "    ## 외곽선 검출 및 배경 제거\n",
        "    blur = cv2.GaussianBlur(image_gray, ksize=(5,5), sigmaX=0)\n",
        "    ret, thresh1 = cv2.threshold(blur, 127, 255, cv2.THRESH_BINARY)\n",
        "\n",
        "    edged = cv2.Canny(blur, 10, 250)\n",
        "\n",
        "    kernel = cv2.getStructuringElement(cv2.MORPH_RECT, (7,7))\n",
        "    closed = cv2.morphologyEx(edged, cv2.MORPH_CLOSE, kernel)\n",
        "\n",
        "    contours, _ = cv2.findContours(closed.copy(),cv2.RETR_EXTERNAL, cv2.CHAIN_APPROX_SIMPLE)\n",
        "    \n",
        "    # 경계선 내부 255로 채우기\n",
        "    height, width, channel = image.shape\n",
        "    mask = np.zeros((height, width, 4), np.uint8)\n",
        "    cv2.fillPoly(mask, contours, (255,)*image.shape[2], )\n",
        "    masked_image = cv2.bitwise_and(image, mask)\n",
        "    new_img = cv2.bitwise_and(image, mask)\n",
        "    \n",
        "    # 색상 추출하기\n",
        "    (B, G, R, A) = cv2.split(new_img)\n",
        "    (H, S, V) = cv2.split(image_hsv)\n",
        "    \n",
        "    # 최빈값\n",
        "    color = defaultdict(int)\n",
        "    cnt = 0\n",
        "    for i in range(len(A)):\n",
        "        for j in range(len(A[0])):\n",
        "            if A[i][j]:\n",
        "                color[str(H[i][j]) + '-' + str(S[i][j]) + '-' + str(V[i][j])] += 1\n",
        "                cnt += 1\n",
        "    \n",
        "    mod_h, mod_s, mod_v = sorted(color.items(), reverse=True, key=lambda item: item[1])[0][0].split('-')\n",
        "    mod_h, mod_s, mod_v = int(mod_h), int(mod_s), int(mod_v)\n",
        "    \n",
        "    mod_diff = []\n",
        "    for name, chip in zip(color_name, color_chip_hsv):\n",
        "        mod_temp = (mod_h - chip[0])**2 + (mod_s - chip[1])**2 + (mod_v - chip[2])**2\n",
        "        mod_diff.append(mod_temp)\n",
        "    result = color_chip_rgb[mod_diff.index(min(mod_diff))]\n",
        "            \n",
        "    ## trim\n",
        "    contours_xy = np.array(contours)\n",
        "    \n",
        "    x_min, x_max = 0,0\n",
        "    y_min, y_max = 0,0\n",
        "    xs = []\n",
        "    ys = []\n",
        "    for i in range(len(contours_xy)):\n",
        "        for j in range(len(contours_xy[i])):\n",
        "            xs.append(contours_xy[i][j][0][0]) \n",
        "            ys.append(contours_xy[i][j][0][1]) \n",
        "    x_min, x_max = min(xs), max(xs)\n",
        "    y_min, y_max = min(ys), max(ys)\n",
        "\n",
        "    x = x_min\n",
        "    y = y_min\n",
        "    w = x_max-x_min\n",
        "    h = y_max-y_min\n",
        "    \n",
        "    img_trim = new_img[y:y+h, x:x+w]\n",
        "    \n",
        "    \n",
        "    # 정방형으로 만들기\n",
        "    height, width, channel = img_trim.shape\n",
        "    size = max(height, width)\n",
        "    resize_image = np.zeros((size, size, 4), np.uint8)\n",
        "    if height == size:\n",
        "        diff = (height // 2) - (width // 2)\n",
        "        for i in range(size):\n",
        "            for j in range(size):\n",
        "                if j > diff and j < diff + width:\n",
        "                    resize_image[i][j] = img_trim[i][j - diff]\n",
        "    else:\n",
        "        diff = (width // 2) - (height // 2)\n",
        "        for i in range(size):\n",
        "            for j in range(size):\n",
        "                if i > diff and i < diff + height:\n",
        "                    resize_image[i][j] = img_trim[i - diff][j]\n",
        "\n",
        "    thumbnail = cv2.resize(resize_image, dsize=(300, 300), interpolation=cv2.INTER_AREA)\n",
        "\n",
        "    imgpath = target_item[:29]\n",
        "    link = 'd' + target_item[29:-4] + '.png'\n",
        "    cv2.imwrite(link, thumbnail)\n",
        "    imglink = imgpath[8:] + link\n",
        "    return result, imglink"
      ]
    },
    {
      "cell_type": "code",
      "source": [
        "img1, img2 = image_preprocess('/content/원피스2.png')\n",
        "\n",
        "# img.putdata(df)\n",
        "# img1.save(\"배경제거.png\", \"PNG\") # PNG 포맷으로 저장합니다.\n",
        "\n",
        "print(img1)\n",
        "print(img2)"
      ],
      "metadata": {
        "colab": {
          "base_uri": "https://localhost:8080/"
        },
        "id": "mSnj4p5e_tYS",
        "outputId": "99831349-08db-443e-c102-39c83b35f427"
      },
      "execution_count": 8,
      "outputs": [
        {
          "output_type": "stream",
          "name": "stdout",
          "text": [
            "[29, 66, 33]\n",
            "/원피스2.pngd.png\n"
          ]
        }
      ]
    },
    {
      "cell_type": "code",
      "source": [
        "rgb = [{'R': result[0], 'G': result[1], 'B': result[2]}]"
      ],
      "metadata": {
        "id": "TIMko6QiEpet"
      },
      "execution_count": 12,
      "outputs": []
    },
    {
      "cell_type": "code",
      "source": [
        ""
      ],
      "metadata": {
        "id": "tJT8B2MgXTt0"
      },
      "execution_count": null,
      "outputs": []
    },
    {
      "cell_type": "code",
      "source": [
        ""
      ],
      "metadata": {
        "id": "2ZFMMWqhXTwt"
      },
      "execution_count": null,
      "outputs": []
    },
    {
      "cell_type": "code",
      "source": [
        ""
      ],
      "metadata": {
        "id": "mV5_JDQXXT2H"
      },
      "execution_count": null,
      "outputs": []
    },
    {
      "cell_type": "markdown",
      "source": [
        "# 다른방법"
      ],
      "metadata": {
        "id": "PtsYR8ocXPDJ"
      }
    },
    {
      "cell_type": "code",
      "source": [
        "image = cv2.imread('d.png') # 이미지파일 읽어들이기\n",
        "\n",
        "# BGR로 색 추출 \n",
        "bgrLower = np.array([102, 255, 255]) # 추출할 색의 하한(BGR) \n",
        "bgrUpper = np.array([102, 255, 255]) # 추출할 색의 상한(BGR) \n",
        "img_mask = cv2.inRange(image, bgrLower, bgrUpper) # BGR로 부터 마스크를 작성\n",
        "\n",
        "result = cv2.bitwise_and(image, image, mask=img_mask) # 원본 이미지와 마스크를 합성\n",
        "\n"
      ],
      "metadata": {
        "id": "m-TSiDxFEph4"
      },
      "execution_count": 9,
      "outputs": []
    },
    {
      "cell_type": "code",
      "source": [
        "import numpy as np \n",
        "import cv2 \n",
        "from time import sleep \n",
        "\n",
        "# 메인 함수 \n",
        "def main(): \n",
        "  image = cv2.imread('d.png') # 파일 읽어들이기 \n",
        "  \n",
        "  # BGR로 색추출 \n",
        "  bgrLower = np.array([102, 255, 255]) # 추출할 색의 하한 \n",
        "  bgrUpper = np.array([102, 255, 255]) # 추출할 색의 상한 \n",
        "  bgrResult = bgrExtraction(image, bgrLower, bgrUpper) \n",
        "  cv2.imshow('BGR_test1', bgrResult) \n",
        "  sleep(1) \n",
        "  \n",
        "  \n",
        "  # HSV로 색추출 \n",
        "  hsvLower = np.array([30, 153, 255]) # 추출할 색의 하한 \n",
        "  hsvUpper = np.array([30, 153, 255]) # 추출할 색의 상한 \n",
        "  hsvResult = hsvExtraction(image, hsvLower, hsvUpper) \n",
        "  cv2.imshow('HSV_test1', hsvResult) \n",
        "  sleep(1) \n",
        "  \n",
        "  while True: \n",
        "    # 키 입력을 1ms기다리고, key가「q」이면 break \n",
        "    key = cv2.waitKey(1)&0xff \n",
        "    if key == ord('q'): \n",
        "      break \n",
        "      \n",
        "  cv2.destroyAllWindows() \n",
        "      \n",
        "      \n",
        "\n",
        "# BGR로 특정 색을 추출하는 함수 \n",
        "def bgrExtraction(image, bgrLower, bgrUpper): \n",
        "  img_mask = cv2.inRange(image, bgrLower, bgrUpper) \n",
        "  result = cv2.bitwise_and(image, image, mask=img_mask) \n",
        "  return result \n",
        "  \n",
        "  \n",
        "# HSV로 특정 색을 추출하는 함수 \n",
        "def hsvExtraction(image, hsvLower, hsvUpper): \n",
        "  hsv = cv2.cvtColor(image, cv2.COLOR_BGR2HSV) \n",
        "  hsv_mask = cv2.inRange(hsv, hsvLower, hsvUpper) \n",
        "  result = cv2.bitwise_and(image, image, mask=hsv_mask) \n",
        "  return result \n",
        "  \n",
        "if __name__ == '__main__': \n",
        "  main()\n"
      ],
      "metadata": {
        "colab": {
          "base_uri": "https://localhost:8080/",
          "height": 409
        },
        "id": "oc6ZRAQCVsNu",
        "outputId": "04174937-c10e-4d25-bc70-7741fbb86a8e"
      },
      "execution_count": 11,
      "outputs": [
        {
          "output_type": "error",
          "ename": "DisabledFunctionError",
          "evalue": "ignored",
          "traceback": [
            "\u001b[0;31m---------------------------------------------------------------------------\u001b[0m",
            "\u001b[0;31mDisabledFunctionError\u001b[0m                     Traceback (most recent call last)",
            "\u001b[0;32m<ipython-input-11-9adbfb2e2bd5>\u001b[0m in \u001b[0;36m<module>\u001b[0;34m()\u001b[0m\n\u001b[1;32m     47\u001b[0m \u001b[0;34m\u001b[0m\u001b[0m\n\u001b[1;32m     48\u001b[0m \u001b[0;32mif\u001b[0m \u001b[0m__name__\u001b[0m \u001b[0;34m==\u001b[0m \u001b[0;34m'__main__'\u001b[0m\u001b[0;34m:\u001b[0m\u001b[0;34m\u001b[0m\u001b[0;34m\u001b[0m\u001b[0m\n\u001b[0;32m---> 49\u001b[0;31m   \u001b[0mmain\u001b[0m\u001b[0;34m(\u001b[0m\u001b[0;34m)\u001b[0m\u001b[0;34m\u001b[0m\u001b[0;34m\u001b[0m\u001b[0m\n\u001b[0m",
            "\u001b[0;32m<ipython-input-11-9adbfb2e2bd5>\u001b[0m in \u001b[0;36mmain\u001b[0;34m()\u001b[0m\n\u001b[1;32m     11\u001b[0m   \u001b[0mbgrUpper\u001b[0m \u001b[0;34m=\u001b[0m \u001b[0mnp\u001b[0m\u001b[0;34m.\u001b[0m\u001b[0marray\u001b[0m\u001b[0;34m(\u001b[0m\u001b[0;34m[\u001b[0m\u001b[0;36m102\u001b[0m\u001b[0;34m,\u001b[0m \u001b[0;36m255\u001b[0m\u001b[0;34m,\u001b[0m \u001b[0;36m255\u001b[0m\u001b[0;34m]\u001b[0m\u001b[0;34m)\u001b[0m \u001b[0;31m# 추출할 색의 상한\u001b[0m\u001b[0;34m\u001b[0m\u001b[0;34m\u001b[0m\u001b[0m\n\u001b[1;32m     12\u001b[0m   \u001b[0mbgrResult\u001b[0m \u001b[0;34m=\u001b[0m \u001b[0mbgrExtraction\u001b[0m\u001b[0;34m(\u001b[0m\u001b[0mimage\u001b[0m\u001b[0;34m,\u001b[0m \u001b[0mbgrLower\u001b[0m\u001b[0;34m,\u001b[0m \u001b[0mbgrUpper\u001b[0m\u001b[0;34m)\u001b[0m\u001b[0;34m\u001b[0m\u001b[0;34m\u001b[0m\u001b[0m\n\u001b[0;32m---> 13\u001b[0;31m   \u001b[0mcv2\u001b[0m\u001b[0;34m.\u001b[0m\u001b[0mimshow\u001b[0m\u001b[0;34m(\u001b[0m\u001b[0;34m'BGR_test1'\u001b[0m\u001b[0;34m,\u001b[0m \u001b[0mbgrResult\u001b[0m\u001b[0;34m)\u001b[0m\u001b[0;34m\u001b[0m\u001b[0;34m\u001b[0m\u001b[0m\n\u001b[0m\u001b[1;32m     14\u001b[0m   \u001b[0msleep\u001b[0m\u001b[0;34m(\u001b[0m\u001b[0;36m1\u001b[0m\u001b[0;34m)\u001b[0m\u001b[0;34m\u001b[0m\u001b[0;34m\u001b[0m\u001b[0m\n\u001b[1;32m     15\u001b[0m \u001b[0;34m\u001b[0m\u001b[0m\n",
            "\u001b[0;32m/usr/local/lib/python3.7/dist-packages/google/colab/_import_hooks/_cv2.py\u001b[0m in \u001b[0;36mwrapped\u001b[0;34m(*args, **kwargs)\u001b[0m\n\u001b[1;32m     50\u001b[0m   \u001b[0;32mdef\u001b[0m \u001b[0mwrapped\u001b[0m\u001b[0;34m(\u001b[0m\u001b[0;34m*\u001b[0m\u001b[0margs\u001b[0m\u001b[0;34m,\u001b[0m \u001b[0;34m**\u001b[0m\u001b[0mkwargs\u001b[0m\u001b[0;34m)\u001b[0m\u001b[0;34m:\u001b[0m\u001b[0;34m\u001b[0m\u001b[0;34m\u001b[0m\u001b[0m\n\u001b[1;32m     51\u001b[0m     \u001b[0;32mif\u001b[0m \u001b[0;32mnot\u001b[0m \u001b[0mos\u001b[0m\u001b[0;34m.\u001b[0m\u001b[0menviron\u001b[0m\u001b[0;34m.\u001b[0m\u001b[0mget\u001b[0m\u001b[0;34m(\u001b[0m\u001b[0menv_var\u001b[0m\u001b[0;34m,\u001b[0m \u001b[0;32mFalse\u001b[0m\u001b[0;34m)\u001b[0m\u001b[0;34m:\u001b[0m\u001b[0;34m\u001b[0m\u001b[0;34m\u001b[0m\u001b[0m\n\u001b[0;32m---> 52\u001b[0;31m       \u001b[0;32mraise\u001b[0m \u001b[0mDisabledFunctionError\u001b[0m\u001b[0;34m(\u001b[0m\u001b[0mmessage\u001b[0m\u001b[0;34m,\u001b[0m \u001b[0mname\u001b[0m \u001b[0;32mor\u001b[0m \u001b[0mfunc\u001b[0m\u001b[0;34m.\u001b[0m\u001b[0m__name__\u001b[0m\u001b[0;34m)\u001b[0m\u001b[0;34m\u001b[0m\u001b[0;34m\u001b[0m\u001b[0m\n\u001b[0m\u001b[1;32m     53\u001b[0m     \u001b[0;32mreturn\u001b[0m \u001b[0mfunc\u001b[0m\u001b[0;34m(\u001b[0m\u001b[0;34m*\u001b[0m\u001b[0margs\u001b[0m\u001b[0;34m,\u001b[0m \u001b[0;34m**\u001b[0m\u001b[0mkwargs\u001b[0m\u001b[0;34m)\u001b[0m\u001b[0;34m\u001b[0m\u001b[0;34m\u001b[0m\u001b[0m\n\u001b[1;32m     54\u001b[0m \u001b[0;34m\u001b[0m\u001b[0m\n",
            "\u001b[0;31mDisabledFunctionError\u001b[0m: cv2.imshow() is disabled in Colab, because it causes Jupyter sessions\nto crash; see https://github.com/jupyter/notebook/issues/3935.\nAs a substitution, consider using\n  from google.colab.patches import cv2_imshow\n"
          ],
          "errorDetails": {
            "actions": [
              {
                "action": "open_snippet",
                "actionText": "Search Snippets for cv2.imshow",
                "snippetFilter": "cv2.imshow"
              }
            ]
          }
        }
      ]
    },
    {
      "cell_type": "code",
      "source": [
        ""
      ],
      "metadata": {
        "id": "Fdp1oQ0NW1tT"
      },
      "execution_count": null,
      "outputs": []
    }
  ]
}