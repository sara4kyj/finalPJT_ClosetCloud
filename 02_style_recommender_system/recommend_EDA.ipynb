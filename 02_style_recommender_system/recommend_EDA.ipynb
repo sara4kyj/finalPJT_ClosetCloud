{
 "cells": [
  {
   "cell_type": "code",
   "execution_count": null,
   "id": "tL1GBcZ7kKp-",
   "metadata": {
    "colab": {
     "base_uri": "https://localhost:8080/"
    },
    "executionInfo": {
     "elapsed": 53546,
     "status": "ok",
     "timestamp": 1650009837845,
     "user": {
      "displayName": "김유정",
      "userId": "01261970241974990583"
     },
     "user_tz": -540
    },
    "id": "tL1GBcZ7kKp-",
    "outputId": "97f7d750-8372-427e-b65b-1f735b25b239"
   },
   "outputs": [
    {
     "name": "stdout",
     "output_type": "stream",
     "text": [
      "Mounted at /content/drive\n"
     ]
    }
   ],
   "source": [
    "from google.colab import drive\n",
    "drive.mount('/content/drive')"
   ]
  },
  {
   "cell_type": "code",
   "execution_count": null,
   "id": "PNU8XPbGQPiJ",
   "metadata": {
    "colab": {
     "base_uri": "https://localhost:8080/"
    },
    "executionInfo": {
     "elapsed": 308,
     "status": "ok",
     "timestamp": 1650009873378,
     "user": {
      "displayName": "김유정",
      "userId": "01261970241974990583"
     },
     "user_tz": -540
    },
    "id": "PNU8XPbGQPiJ",
    "outputId": "d6097be6-7302-44b6-858e-e1106a9e775d"
   },
   "outputs": [
    {
     "name": "stdout",
     "output_type": "stream",
     "text": [
      "/content/drive/Othercomputers/내 노트북/07_PJT_final_01/02_style_recommender_system\n"
     ]
    }
   ],
   "source": [
    "cd //content/drive/Othercomputers/내 노트북/07_PJT_final_01/02_style_recommender_system"
   ]
  },
  {
   "cell_type": "code",
   "execution_count": 1,
   "id": "b80af762",
   "metadata": {
    "id": "b80af762"
   },
   "outputs": [],
   "source": [
    "import os\n",
    "import glob\n",
    "import json\n",
    "import numpy as np\n",
    "import pandas as pd\n",
    "from tqdm import trange, notebook\n",
    "import pickle"
   ]
  },
  {
   "cell_type": "markdown",
   "id": "vB96nM2UPp7O",
   "metadata": {
    "id": "vB96nM2UPp7O"
   },
   "source": [
    "#### 라벨링 데이터 셋 만들기"
   ]
  },
  {
   "cell_type": "code",
   "execution_count": null,
   "id": "33151615",
   "metadata": {
    "id": "33151615"
   },
   "outputs": [],
   "source": [
    "s_path = './라벨링데이터/*'"
   ]
  },
  {
   "cell_type": "code",
   "execution_count": null,
   "id": "c9a67ad3",
   "metadata": {
    "id": "c9a67ad3"
   },
   "outputs": [],
   "source": [
    "folder_list = glob.glob(s_path)"
   ]
  },
  {
   "cell_type": "code",
   "execution_count": null,
   "id": "b6e321fa",
   "metadata": {
    "id": "b6e321fa",
    "outputId": "6e7e568a-ae7d-4eed-dfcf-9a5ebf522fdc"
   },
   "outputs": [
    {
     "data": {
      "text/plain": [
       "['./라벨링데이터\\\\공', './라벨링데이터\\\\기타', './라벨링데이터\\\\사', './라벨링데이터\\\\운동']"
      ]
     },
     "execution_count": 4,
     "metadata": {},
     "output_type": "execute_result"
    }
   ],
   "source": [
    "folder_list[:10]"
   ]
  },
  {
   "cell_type": "code",
   "execution_count": null,
   "id": "8c0aacef",
   "metadata": {
    "id": "8c0aacef"
   },
   "outputs": [],
   "source": [
    "file_list = glob.glob(folder_list[0]+'/*')"
   ]
  },
  {
   "cell_type": "code",
   "execution_count": null,
   "id": "7ac147a3",
   "metadata": {
    "id": "7ac147a3",
    "outputId": "0ec622e1-af15-471a-8570-2512b9c1d8bc"
   },
   "outputs": [
    {
     "data": {
      "text/plain": [
       "'매니시'"
      ]
     },
     "execution_count": 6,
     "metadata": {},
     "output_type": "execute_result"
    }
   ],
   "source": [
    "file_list[0].split('\\\\')[-1]"
   ]
  },
  {
   "cell_type": "code",
   "execution_count": null,
   "id": "af680d3e",
   "metadata": {
    "id": "af680d3e"
   },
   "outputs": [],
   "source": [
    "# 파일 명 리스트로 만들기\n",
    "file_name_list = [i.split('\\\\')[-1] for i in file_list]"
   ]
  },
  {
   "cell_type": "code",
   "execution_count": null,
   "id": "d1f48502",
   "metadata": {
    "id": "d1f48502",
    "outputId": "18d2cb1d-2229-4ef9-e8eb-7bd0edac05a2"
   },
   "outputs": [
    {
     "data": {
      "text/plain": [
       "(7, ['매니시', '모던', '소피스트케이티드', '아방가르드', '젠더리스', '클래식', '톰보이'])"
      ]
     },
     "execution_count": 8,
     "metadata": {},
     "output_type": "execute_result"
    }
   ],
   "source": [
    "len(file_name_list), file_name_list[:10]"
   ]
  },
  {
   "cell_type": "code",
   "execution_count": null,
   "id": "ab628839",
   "metadata": {
    "id": "ab628839"
   },
   "outputs": [],
   "source": [
    "sub = glob.glob(file_list[0]+'/*')[0]"
   ]
  },
  {
   "cell_type": "code",
   "execution_count": null,
   "id": "6739a007",
   "metadata": {
    "colab": {
     "referenced_widgets": [
      "1d79d5146a6b4c878e1fe81ef688c52a",
      "78f937d8df1f4c9eac89c164b0bda08e",
      "9c879865f374402f92c3266f6ece1748",
      "bb439e244f364805a8bc451861a03d85",
      "f91d451e12e144cc89a501b1160d2948",
      "d5511e0721e24a4c95ea64cf9cc1c976",
      "4ea281b692dd48e5a7bbbc4c8e319566",
      "6cda4c992c864f5ab58442db647cc7c8",
      "8b0a8315eb324b16ac21cedc892d4ba7",
      "831ab0807d5249198f07f28cee842edb",
      "16a58da5d9be46ed8018a7832755d32f",
      "06fa534c783e40b4bbc8c9099e12b58a",
      "c50b31f1e2524a7abadbf877697255f3",
      "be574823abf448e28aa65cbe221d7610",
      "74cf9583d91145b7b617bd4fe737723a",
      "cecc1d68bdee436998c67894a1710cd9",
      "45fbc7c441c34c46b1d44d0266f165dc",
      "c4131aac36ab4b4e94925f8e05014478",
      "bac69a764bb642bca62c79b1dd05e98e",
      "57486f4529a74fc284e72021a7fc5a69",
      "9bd35a4cb47444418ba62c156f1235e6",
      "99f6fe91a4044b67ae9c0000428dea77",
      "3e228b075b71414d9eb4e6035240d374",
      "84edb909be46425aab66cc0b92d225f5",
      "7217c31835d74a24856efb0f7e969803",
      "cc1c802f531f4df5a252ad4f07d4efd5",
      "15a70883ee0646e69658f4838d051abf",
      "21d23723598547fdbf8f7298d4e011e6",
      "7238f4f5c76f4bb58fc88ec701d6d867",
      "f4d0cfbf481440eeb4fc9ca54f6fee14",
      "cc21406abdea4a80a6f0417252f298e5",
      "5a26512376854f06867cbc34b2830c4a",
      "d3d13f03bfb948dc9df1e4a3b0a54f39",
      "ec95a426c4dd4f77916335fb91e3c2d3",
      "0fa5a1a674f749fca84e86efbc962be8",
      "31c14530550a4e789afea737cb3fbc0f",
      "63b7cb3a70d44099b9fae656d505e85f",
      "13efccecf1f847f98d73cd0b7304c6d9",
      "c2cd7edb8ba443f68fa1ea0961316eba",
      "f6f2e8ffe8704f7e89dda67c56a74f4b",
      "3dde1f3bf3b9410b8bc2f2d79f902642",
      "e0f50c6095e14dcfbc98bae79b3835b3",
      "36a605f3c2054f28b796e1cf40a1813b",
      "8e373575517749bea587248a657a1fcd",
      "8a7eeef3e4f24d3fa69ae5f509e48a13",
      "967a9b22a60340f4ae3b4996396ab5fe",
      "7f915f63d24c4e369e3188f3519a4f49",
      "7dffa728e058467883bcd9d434bfbb91"
     ]
    },
    "id": "6739a007",
    "outputId": "df0f828a-8d9a-4f4c-8281-8436aac88521"
   },
   "outputs": [
    {
     "data": {
      "application/vnd.jupyter.widget-view+json": {
       "model_id": "7217c31835d74a24856efb0f7e969803",
       "version_major": 2,
       "version_minor": 0
      },
      "text/plain": [
       "  0%|          | 0/7 [00:00<?, ?it/s]"
      ]
     },
     "metadata": {},
     "output_type": "display_data"
    },
    {
     "data": {
      "application/vnd.jupyter.widget-view+json": {
       "model_id": "cc1c802f531f4df5a252ad4f07d4efd5",
       "version_major": 2,
       "version_minor": 0
      },
      "text/plain": [
       "  0%|          | 0/8488 [00:00<?, ?it/s]"
      ]
     },
     "metadata": {},
     "output_type": "display_data"
    },
    {
     "data": {
      "application/vnd.jupyter.widget-view+json": {
       "model_id": "15a70883ee0646e69658f4838d051abf",
       "version_major": 2,
       "version_minor": 0
      },
      "text/plain": [
       "  0%|          | 0/79947 [00:00<?, ?it/s]"
      ]
     },
     "metadata": {},
     "output_type": "display_data"
    },
    {
     "data": {
      "application/vnd.jupyter.widget-view+json": {
       "model_id": "21d23723598547fdbf8f7298d4e011e6",
       "version_major": 2,
       "version_minor": 0
      },
      "text/plain": [
       "  0%|          | 0/32626 [00:00<?, ?it/s]"
      ]
     },
     "metadata": {},
     "output_type": "display_data"
    },
    {
     "data": {
      "application/vnd.jupyter.widget-view+json": {
       "model_id": "7238f4f5c76f4bb58fc88ec701d6d867",
       "version_major": 2,
       "version_minor": 0
      },
      "text/plain": [
       "  0%|          | 0/3671 [00:00<?, ?it/s]"
      ]
     },
     "metadata": {},
     "output_type": "display_data"
    },
    {
     "data": {
      "application/vnd.jupyter.widget-view+json": {
       "model_id": "f4d0cfbf481440eeb4fc9ca54f6fee14",
       "version_major": 2,
       "version_minor": 0
      },
      "text/plain": [
       "  0%|          | 0/12386 [00:00<?, ?it/s]"
      ]
     },
     "metadata": {},
     "output_type": "display_data"
    },
    {
     "data": {
      "application/vnd.jupyter.widget-view+json": {
       "model_id": "cc21406abdea4a80a6f0417252f298e5",
       "version_major": 2,
       "version_minor": 0
      },
      "text/plain": [
       "  0%|          | 0/39411 [00:00<?, ?it/s]"
      ]
     },
     "metadata": {},
     "output_type": "display_data"
    },
    {
     "data": {
      "application/vnd.jupyter.widget-view+json": {
       "model_id": "5a26512376854f06867cbc34b2830c4a",
       "version_major": 2,
       "version_minor": 0
      },
      "text/plain": [
       "  0%|          | 0/7578 [00:00<?, ?it/s]"
      ]
     },
     "metadata": {},
     "output_type": "display_data"
    },
    {
     "data": {
      "application/vnd.jupyter.widget-view+json": {
       "model_id": "d3d13f03bfb948dc9df1e4a3b0a54f39",
       "version_major": 2,
       "version_minor": 0
      },
      "text/plain": [
       "  0%|          | 0/4 [00:00<?, ?it/s]"
      ]
     },
     "metadata": {},
     "output_type": "display_data"
    },
    {
     "data": {
      "application/vnd.jupyter.widget-view+json": {
       "model_id": "ec95a426c4dd4f77916335fb91e3c2d3",
       "version_major": 2,
       "version_minor": 0
      },
      "text/plain": [
       "  0%|          | 0/6833 [00:00<?, ?it/s]"
      ]
     },
     "metadata": {},
     "output_type": "display_data"
    },
    {
     "data": {
      "application/vnd.jupyter.widget-view+json": {
       "model_id": "0fa5a1a674f749fca84e86efbc962be8",
       "version_major": 2,
       "version_minor": 0
      },
      "text/plain": [
       "  0%|          | 0/4083 [00:00<?, ?it/s]"
      ]
     },
     "metadata": {},
     "output_type": "display_data"
    },
    {
     "data": {
      "application/vnd.jupyter.widget-view+json": {
       "model_id": "31c14530550a4e789afea737cb3fbc0f",
       "version_major": 2,
       "version_minor": 0
      },
      "text/plain": [
       "  0%|          | 0/4840 [00:00<?, ?it/s]"
      ]
     },
     "metadata": {},
     "output_type": "display_data"
    },
    {
     "data": {
      "application/vnd.jupyter.widget-view+json": {
       "model_id": "63b7cb3a70d44099b9fae656d505e85f",
       "version_major": 2,
       "version_minor": 0
      },
      "text/plain": [
       "  0%|          | 0/6544 [00:00<?, ?it/s]"
      ]
     },
     "metadata": {},
     "output_type": "display_data"
    },
    {
     "data": {
      "application/vnd.jupyter.widget-view+json": {
       "model_id": "13efccecf1f847f98d73cd0b7304c6d9",
       "version_major": 2,
       "version_minor": 0
      },
      "text/plain": [
       "  0%|          | 0/8 [00:00<?, ?it/s]"
      ]
     },
     "metadata": {},
     "output_type": "display_data"
    },
    {
     "data": {
      "application/vnd.jupyter.widget-view+json": {
       "model_id": "c2cd7edb8ba443f68fa1ea0961316eba",
       "version_major": 2,
       "version_minor": 0
      },
      "text/plain": [
       "  0%|          | 0/4400 [00:00<?, ?it/s]"
      ]
     },
     "metadata": {},
     "output_type": "display_data"
    },
    {
     "data": {
      "application/vnd.jupyter.widget-view+json": {
       "model_id": "f6f2e8ffe8704f7e89dda67c56a74f4b",
       "version_major": 2,
       "version_minor": 0
      },
      "text/plain": [
       "  0%|          | 0/73173 [00:00<?, ?it/s]"
      ]
     },
     "metadata": {},
     "output_type": "display_data"
    },
    {
     "data": {
      "application/vnd.jupyter.widget-view+json": {
       "model_id": "3dde1f3bf3b9410b8bc2f2d79f902642",
       "version_major": 2,
       "version_minor": 0
      },
      "text/plain": [
       "  0%|          | 0/449494 [00:00<?, ?it/s]"
      ]
     },
     "metadata": {},
     "output_type": "display_data"
    },
    {
     "data": {
      "application/vnd.jupyter.widget-view+json": {
       "model_id": "e0f50c6095e14dcfbc98bae79b3835b3",
       "version_major": 2,
       "version_minor": 0
      },
      "text/plain": [
       "  0%|          | 0/1712 [00:00<?, ?it/s]"
      ]
     },
     "metadata": {},
     "output_type": "display_data"
    },
    {
     "data": {
      "application/vnd.jupyter.widget-view+json": {
       "model_id": "36a605f3c2054f28b796e1cf40a1813b",
       "version_major": 2,
       "version_minor": 0
      },
      "text/plain": [
       "  0%|          | 0/32365 [00:00<?, ?it/s]"
      ]
     },
     "metadata": {},
     "output_type": "display_data"
    },
    {
     "data": {
      "application/vnd.jupyter.widget-view+json": {
       "model_id": "8e373575517749bea587248a657a1fcd",
       "version_major": 2,
       "version_minor": 0
      },
      "text/plain": [
       "  0%|          | 0/382 [00:00<?, ?it/s]"
      ]
     },
     "metadata": {},
     "output_type": "display_data"
    },
    {
     "data": {
      "application/vnd.jupyter.widget-view+json": {
       "model_id": "8a7eeef3e4f24d3fa69ae5f509e48a13",
       "version_major": 2,
       "version_minor": 0
      },
      "text/plain": [
       "  0%|          | 0/88325 [00:00<?, ?it/s]"
      ]
     },
     "metadata": {},
     "output_type": "display_data"
    },
    {
     "data": {
      "application/vnd.jupyter.widget-view+json": {
       "model_id": "967a9b22a60340f4ae3b4996396ab5fe",
       "version_major": 2,
       "version_minor": 0
      },
      "text/plain": [
       "  0%|          | 0/2471 [00:00<?, ?it/s]"
      ]
     },
     "metadata": {},
     "output_type": "display_data"
    },
    {
     "data": {
      "application/vnd.jupyter.widget-view+json": {
       "model_id": "7f915f63d24c4e369e3188f3519a4f49",
       "version_major": 2,
       "version_minor": 0
      },
      "text/plain": [
       "  0%|          | 0/1 [00:00<?, ?it/s]"
      ]
     },
     "metadata": {},
     "output_type": "display_data"
    },
    {
     "data": {
      "application/vnd.jupyter.widget-view+json": {
       "model_id": "7dffa728e058467883bcd9d434bfbb91",
       "version_major": 2,
       "version_minor": 0
      },
      "text/plain": [
       "  0%|          | 0/14701 [00:00<?, ?it/s]"
      ]
     },
     "metadata": {},
     "output_type": "display_data"
    }
   ],
   "source": [
    "# 스타일 정보 저장하는 데이터 프레임 만들기\n",
    "style_info_list=[]\n",
    "\n",
    "for main in folder_list:\n",
    "    for sub in notebook.tqdm(glob.glob(main+'/*')):\n",
    "        for file_path in notebook.tqdm(glob.glob(sub+'/*')):\n",
    "            with open(file_path, 'r', encoding='UTF8') as file:\n",
    "                data = json.load(file)\n",
    "            for i in data['데이터셋 정보']['데이터셋 상세설명']['라벨링']: \n",
    "                if data['데이터셋 정보']['데이터셋 상세설명']['라벨링'][i][0]:\n",
    "                    name = data['데이터셋 정보']['파일 번호']\n",
    "                    main_style = main.split('\\\\')[-1]  \n",
    "                    if i == '스타일':\n",
    "                        try : sub_styles = data['데이터셋 정보']['데이터셋 상세설명']['라벨링'][i][0]['스타일'] # 매니시, 페미닌 등\n",
    "                        except : sub_styles = None\n",
    "                    else:\n",
    "                        try: cloth_cat = i\n",
    "                        except : cloth_cat = None\n",
    "                        try: color = data['데이터셋 정보']['데이터셋 상세설명']['라벨링'][i][0]['색상']\n",
    "                        except: color = None\n",
    "                        try : pattern = data['데이터셋 정보']['데이터셋 상세설명']['라벨링'][i][0]['프린트']\n",
    "                        except : pattern = None\n",
    "                        try: length = data['데이터셋 정보']['데이터셋 상세설명']['라벨링'][i][0]['기장']\n",
    "                        except : length = None\n",
    "                        try: arm_length = data['데이터셋 정보']['데이터셋 상세설명']['라벨링'][i][0]['소매기장']\n",
    "                        except : arm_length = None\n",
    "                        try: fit_cloth = data['데이터셋 정보']['데이터셋 상세설명']['라벨링'][i][0]['핏']\n",
    "                        except: fit_cloth = None\n",
    "                        try: fabric = data['데이터셋 정보']['데이터셋 상세설명']['라벨링'][i][0]['소재']\n",
    "                        except: fabric = None\n",
    "                        style_info_list.append([name, main_style, sub_styles, cloth_cat, color,pattern,length,arm_length,fit_cloth,fabric])\n",
    "df = pd.DataFrame(style_info_list, columns = ['name', 'main_style', 'sub_styles', 'cloth_cat', 'color','pattern','length','arm_length','fit_cloth','fabric'])\n",
    "df.to_pickle(\"df2.pkl\")"
   ]
  },
  {
   "cell_type": "code",
   "execution_count": null,
   "id": "d7223890",
   "metadata": {
    "id": "d7223890"
   },
   "outputs": [],
   "source": [
    "df.to_pickle(\"df.pkl\")"
   ]
  },
  {
   "cell_type": "code",
   "execution_count": null,
   "id": "e997700d",
   "metadata": {
    "id": "e997700d"
   },
   "outputs": [],
   "source": [
    "import sqlite3\n",
    "    \n",
    "  # SQLite3 DB로 저장하기\n",
    "\n",
    "con = sqlite3.connect(\"test.db\")\n",
    "df.to_sql(\"table_name\", con, if_exists=\"append\", index=False)\n",
    "con.close()"
   ]
  },
  {
   "cell_type": "code",
   "execution_count": null,
   "id": "3455aaf5",
   "metadata": {
    "id": "3455aaf5",
    "outputId": "7fcc595d-e588-43cf-f57f-6d5b8a769ec9"
   },
   "outputs": [
    {
     "data": {
      "text/html": [
       "<div>\n",
       "<style scoped>\n",
       "    .dataframe tbody tr th:only-of-type {\n",
       "        vertical-align: middle;\n",
       "    }\n",
       "\n",
       "    .dataframe tbody tr th {\n",
       "        vertical-align: top;\n",
       "    }\n",
       "\n",
       "    .dataframe thead th {\n",
       "        text-align: right;\n",
       "    }\n",
       "</style>\n",
       "<table border=\"1\" class=\"dataframe\">\n",
       "  <thead>\n",
       "    <tr style=\"text-align: right;\">\n",
       "      <th></th>\n",
       "      <th>name</th>\n",
       "      <th>main_style</th>\n",
       "      <th>sub_styles</th>\n",
       "      <th>cloth_cat</th>\n",
       "      <th>color</th>\n",
       "      <th>pattern</th>\n",
       "      <th>length</th>\n",
       "      <th>arm_length</th>\n",
       "      <th>fit_cloth</th>\n",
       "      <th>fabric</th>\n",
       "    </tr>\n",
       "  </thead>\n",
       "  <tbody>\n",
       "    <tr>\n",
       "      <th>0</th>\n",
       "      <td>1002940</td>\n",
       "      <td>공</td>\n",
       "      <td>매니시</td>\n",
       "      <td>하의</td>\n",
       "      <td>와인</td>\n",
       "      <td>[무지]</td>\n",
       "      <td>발목</td>\n",
       "      <td>None</td>\n",
       "      <td>와이드</td>\n",
       "      <td>[우븐]</td>\n",
       "    </tr>\n",
       "    <tr>\n",
       "      <th>1</th>\n",
       "      <td>1002940</td>\n",
       "      <td>공</td>\n",
       "      <td>매니시</td>\n",
       "      <td>상의</td>\n",
       "      <td>화이트</td>\n",
       "      <td>[무지]</td>\n",
       "      <td>None</td>\n",
       "      <td>긴팔</td>\n",
       "      <td>노멀</td>\n",
       "      <td>[우븐]</td>\n",
       "    </tr>\n",
       "    <tr>\n",
       "      <th>2</th>\n",
       "      <td>1002941</td>\n",
       "      <td>공</td>\n",
       "      <td>매니시</td>\n",
       "      <td>하의</td>\n",
       "      <td>와인</td>\n",
       "      <td>[무지]</td>\n",
       "      <td>발목</td>\n",
       "      <td>None</td>\n",
       "      <td>와이드</td>\n",
       "      <td>[우븐]</td>\n",
       "    </tr>\n",
       "    <tr>\n",
       "      <th>3</th>\n",
       "      <td>1002941</td>\n",
       "      <td>공</td>\n",
       "      <td>매니시</td>\n",
       "      <td>상의</td>\n",
       "      <td>화이트</td>\n",
       "      <td>[무지]</td>\n",
       "      <td>None</td>\n",
       "      <td>긴팔</td>\n",
       "      <td>노멀</td>\n",
       "      <td>[우븐]</td>\n",
       "    </tr>\n",
       "    <tr>\n",
       "      <th>4</th>\n",
       "      <td>1002942</td>\n",
       "      <td>공</td>\n",
       "      <td>매니시</td>\n",
       "      <td>상의</td>\n",
       "      <td>베이지</td>\n",
       "      <td>[무지]</td>\n",
       "      <td>None</td>\n",
       "      <td>긴팔</td>\n",
       "      <td>노멀</td>\n",
       "      <td>[우븐]</td>\n",
       "    </tr>\n",
       "  </tbody>\n",
       "</table>\n",
       "</div>"
      ],
      "text/plain": [
       "      name main_style sub_styles cloth_cat color pattern length arm_length  \\\n",
       "0  1002940          공        매니시        하의    와인    [무지]     발목       None   \n",
       "1  1002940          공        매니시        상의   화이트    [무지]   None         긴팔   \n",
       "2  1002941          공        매니시        하의    와인    [무지]     발목       None   \n",
       "3  1002941          공        매니시        상의   화이트    [무지]   None         긴팔   \n",
       "4  1002942          공        매니시        상의   베이지    [무지]   None         긴팔   \n",
       "\n",
       "  fit_cloth fabric  \n",
       "0       와이드   [우븐]  \n",
       "1        노멀   [우븐]  \n",
       "2       와이드   [우븐]  \n",
       "3        노멀   [우븐]  \n",
       "4        노멀   [우븐]  "
      ]
     },
     "execution_count": 12,
     "metadata": {},
     "output_type": "execute_result"
    }
   ],
   "source": [
    "df.head()"
   ]
  },
  {
   "cell_type": "code",
   "execution_count": null,
   "id": "0f87a6c7",
   "metadata": {
    "id": "0f87a6c7"
   },
   "outputs": [],
   "source": [
    "save_path = '.\\\\dataset\\\\Training\\\\라벨링데이터\\\\*'\n",
    "folder_list = glob.glob(save_path)\n",
    "[glob.glob(f+'\\\\*') for f in folder_list]"
   ]
  },
  {
   "cell_type": "code",
   "execution_count": null,
   "id": "0347bca8",
   "metadata": {
    "id": "0347bca8"
   },
   "outputs": [],
   "source": [
    "# 이미지 파일 라벨 기준 분류 작업\n",
    "import shutil\n",
    "\n",
    "for (filename, cat) in zip(df.filename, df.cat):\n",
    "        try:\n",
    "            if (cat == 'cap_and_hat') or (cat == 'shoes'):\n",
    "                file_path = f'./Item-Image_02/{filename}.jpg'\n",
    "                os.remove(file_path)\n",
    "            else:\n",
    "                chpath = f'./Item-Image_02/{cat}/'\n",
    "                if not os.path.exists(chpath):\n",
    "                    os.makedirs(chpath)\n",
    "                shutil.move(f'./Item-Image_02/{filename}.jpg', chpath+f'{filename}.jpg')\n",
    "        except:\n",
    "            pass"
   ]
  },
  {
   "cell_type": "markdown",
   "id": "lRTu8MmdPxXg",
   "metadata": {
    "id": "lRTu8MmdPxXg"
   },
   "source": [
    "#### 데이터셋 확인하기"
   ]
  },
  {
   "cell_type": "code",
   "execution_count": null,
   "id": "iSJdJ9M5Ry9-",
   "metadata": {
    "colab": {
     "base_uri": "https://localhost:8080/"
    },
    "executionInfo": {
     "elapsed": 4193,
     "status": "ok",
     "timestamp": 1650009882572,
     "user": {
      "displayName": "김유정",
      "userId": "01261970241974990583"
     },
     "user_tz": -540
    },
    "id": "iSJdJ9M5Ry9-",
    "outputId": "ab2cd8df-e08c-4bca-d352-72d4450a3fea"
   },
   "outputs": [
    {
     "name": "stdout",
     "output_type": "stream",
     "text": [
      "Collecting pickle5\n",
      "  Downloading pickle5-0.0.12-cp37-cp37m-manylinux_2_5_x86_64.manylinux1_x86_64.whl (256 kB)\n",
      "\u001b[?25l\r",
      "\u001b[K     |█▎                              | 10 kB 18.9 MB/s eta 0:00:01\r",
      "\u001b[K     |██▋                             | 20 kB 23.0 MB/s eta 0:00:01\r",
      "\u001b[K     |███▉                            | 30 kB 21.1 MB/s eta 0:00:01\r",
      "\u001b[K     |█████▏                          | 40 kB 17.7 MB/s eta 0:00:01\r",
      "\u001b[K     |██████▍                         | 51 kB 8.6 MB/s eta 0:00:01\r",
      "\u001b[K     |███████▊                        | 61 kB 10.1 MB/s eta 0:00:01\r",
      "\u001b[K     |█████████                       | 71 kB 9.9 MB/s eta 0:00:01\r",
      "\u001b[K     |██████████▎                     | 81 kB 10.2 MB/s eta 0:00:01\r",
      "\u001b[K     |███████████▌                    | 92 kB 11.3 MB/s eta 0:00:01\r",
      "\u001b[K     |████████████▉                   | 102 kB 9.5 MB/s eta 0:00:01\r",
      "\u001b[K     |██████████████                  | 112 kB 9.5 MB/s eta 0:00:01\r",
      "\u001b[K     |███████████████▍                | 122 kB 9.5 MB/s eta 0:00:01\r",
      "\u001b[K     |████████████████▋               | 133 kB 9.5 MB/s eta 0:00:01\r",
      "\u001b[K     |██████████████████              | 143 kB 9.5 MB/s eta 0:00:01\r",
      "\u001b[K     |███████████████████▏            | 153 kB 9.5 MB/s eta 0:00:01\r",
      "\u001b[K     |████████████████████▌           | 163 kB 9.5 MB/s eta 0:00:01\r",
      "\u001b[K     |█████████████████████▊          | 174 kB 9.5 MB/s eta 0:00:01\r",
      "\u001b[K     |███████████████████████         | 184 kB 9.5 MB/s eta 0:00:01\r",
      "\u001b[K     |████████████████████████▎       | 194 kB 9.5 MB/s eta 0:00:01\r",
      "\u001b[K     |█████████████████████████▋      | 204 kB 9.5 MB/s eta 0:00:01\r",
      "\u001b[K     |██████████████████████████▉     | 215 kB 9.5 MB/s eta 0:00:01\r",
      "\u001b[K     |████████████████████████████▏   | 225 kB 9.5 MB/s eta 0:00:01\r",
      "\u001b[K     |█████████████████████████████▍  | 235 kB 9.5 MB/s eta 0:00:01\r",
      "\u001b[K     |██████████████████████████████▊ | 245 kB 9.5 MB/s eta 0:00:01\r",
      "\u001b[K     |████████████████████████████████| 256 kB 9.5 MB/s eta 0:00:01\r",
      "\u001b[K     |████████████████████████████████| 256 kB 9.5 MB/s \n",
      "\u001b[?25hInstalling collected packages: pickle5\n",
      "Successfully installed pickle5-0.0.12\n"
     ]
    }
   ],
   "source": [
    "!pip3 install pickle5\n",
    "import pickle5 as pickle"
   ]
  },
  {
   "cell_type": "code",
   "execution_count": 13,
   "id": "baed46bd",
   "metadata": {
    "colab": {
     "base_uri": "https://localhost:8080/",
     "height": 193
    },
    "executionInfo": {
     "elapsed": 10,
     "status": "error",
     "timestamp": 1650257070332,
     "user": {
      "displayName": "김유정",
      "userId": "01261970241974990583"
     },
     "user_tz": -540
    },
    "id": "baed46bd",
    "outputId": "d102e0be-8d9a-4d51-d756-2458dac842df"
   },
   "outputs": [],
   "source": [
    "with open('./df2.pkl', \"rb\") as fh:\n",
    "  data = pickle.load(fh)"
   ]
  },
  {
   "cell_type": "code",
   "execution_count": 3,
   "id": "YpQGlwCbjde_",
   "metadata": {
    "colab": {
     "base_uri": "https://localhost:8080/",
     "height": 206
    },
    "executionInfo": {
     "elapsed": 277,
     "status": "ok",
     "timestamp": 1650009966490,
     "user": {
      "displayName": "김유정",
      "userId": "01261970241974990583"
     },
     "user_tz": -540
    },
    "id": "YpQGlwCbjde_",
    "outputId": "1d7c950a-ead0-4332-ae01-6f85c6705506"
   },
   "outputs": [
    {
     "data": {
      "text/html": [
       "<div>\n",
       "<style scoped>\n",
       "    .dataframe tbody tr th:only-of-type {\n",
       "        vertical-align: middle;\n",
       "    }\n",
       "\n",
       "    .dataframe tbody tr th {\n",
       "        vertical-align: top;\n",
       "    }\n",
       "\n",
       "    .dataframe thead th {\n",
       "        text-align: right;\n",
       "    }\n",
       "</style>\n",
       "<table border=\"1\" class=\"dataframe\">\n",
       "  <thead>\n",
       "    <tr style=\"text-align: right;\">\n",
       "      <th></th>\n",
       "      <th>name</th>\n",
       "      <th>main_style</th>\n",
       "      <th>sub_styles</th>\n",
       "      <th>cloth_cat</th>\n",
       "      <th>color</th>\n",
       "      <th>pattern</th>\n",
       "      <th>length</th>\n",
       "      <th>arm_length</th>\n",
       "      <th>fit_cloth</th>\n",
       "      <th>fabric</th>\n",
       "    </tr>\n",
       "  </thead>\n",
       "  <tbody>\n",
       "    <tr>\n",
       "      <th>0</th>\n",
       "      <td>1002940</td>\n",
       "      <td>공</td>\n",
       "      <td>매니시</td>\n",
       "      <td>하의</td>\n",
       "      <td>와인</td>\n",
       "      <td>[무지]</td>\n",
       "      <td>발목</td>\n",
       "      <td>None</td>\n",
       "      <td>와이드</td>\n",
       "      <td>[우븐]</td>\n",
       "    </tr>\n",
       "    <tr>\n",
       "      <th>1</th>\n",
       "      <td>1002940</td>\n",
       "      <td>공</td>\n",
       "      <td>매니시</td>\n",
       "      <td>상의</td>\n",
       "      <td>화이트</td>\n",
       "      <td>[무지]</td>\n",
       "      <td>None</td>\n",
       "      <td>긴팔</td>\n",
       "      <td>노멀</td>\n",
       "      <td>[우븐]</td>\n",
       "    </tr>\n",
       "    <tr>\n",
       "      <th>2</th>\n",
       "      <td>1002941</td>\n",
       "      <td>공</td>\n",
       "      <td>매니시</td>\n",
       "      <td>하의</td>\n",
       "      <td>와인</td>\n",
       "      <td>[무지]</td>\n",
       "      <td>발목</td>\n",
       "      <td>None</td>\n",
       "      <td>와이드</td>\n",
       "      <td>[우븐]</td>\n",
       "    </tr>\n",
       "    <tr>\n",
       "      <th>3</th>\n",
       "      <td>1002941</td>\n",
       "      <td>공</td>\n",
       "      <td>매니시</td>\n",
       "      <td>상의</td>\n",
       "      <td>화이트</td>\n",
       "      <td>[무지]</td>\n",
       "      <td>None</td>\n",
       "      <td>긴팔</td>\n",
       "      <td>노멀</td>\n",
       "      <td>[우븐]</td>\n",
       "    </tr>\n",
       "    <tr>\n",
       "      <th>4</th>\n",
       "      <td>1002942</td>\n",
       "      <td>공</td>\n",
       "      <td>매니시</td>\n",
       "      <td>상의</td>\n",
       "      <td>베이지</td>\n",
       "      <td>[무지]</td>\n",
       "      <td>None</td>\n",
       "      <td>긴팔</td>\n",
       "      <td>노멀</td>\n",
       "      <td>[우븐]</td>\n",
       "    </tr>\n",
       "  </tbody>\n",
       "</table>\n",
       "</div>"
      ],
      "text/plain": [
       "      name main_style sub_styles cloth_cat color pattern length arm_length  \\\n",
       "0  1002940          공        매니시        하의    와인    [무지]     발목       None   \n",
       "1  1002940          공        매니시        상의   화이트    [무지]   None         긴팔   \n",
       "2  1002941          공        매니시        하의    와인    [무지]     발목       None   \n",
       "3  1002941          공        매니시        상의   화이트    [무지]   None         긴팔   \n",
       "4  1002942          공        매니시        상의   베이지    [무지]   None         긴팔   \n",
       "\n",
       "  fit_cloth fabric  \n",
       "0       와이드   [우븐]  \n",
       "1        노멀   [우븐]  \n",
       "2       와이드   [우븐]  \n",
       "3        노멀   [우븐]  \n",
       "4        노멀   [우븐]  "
      ]
     },
     "execution_count": 3,
     "metadata": {},
     "output_type": "execute_result"
    }
   ],
   "source": [
    "data.head()"
   ]
  },
  {
   "cell_type": "code",
   "execution_count": 4,
   "id": "wBeVTMaSjddE",
   "metadata": {
    "colab": {
     "base_uri": "https://localhost:8080/",
     "height": 206
    },
    "executionInfo": {
     "elapsed": 330,
     "status": "ok",
     "timestamp": 1650009969815,
     "user": {
      "displayName": "김유정",
      "userId": "01261970241974990583"
     },
     "user_tz": -540
    },
    "id": "wBeVTMaSjddE",
    "outputId": "9efc5cfe-c863-4631-dad2-14e8be1c4ecc"
   },
   "outputs": [
    {
     "data": {
      "text/html": [
       "<div>\n",
       "<style scoped>\n",
       "    .dataframe tbody tr th:only-of-type {\n",
       "        vertical-align: middle;\n",
       "    }\n",
       "\n",
       "    .dataframe tbody tr th {\n",
       "        vertical-align: top;\n",
       "    }\n",
       "\n",
       "    .dataframe thead th {\n",
       "        text-align: right;\n",
       "    }\n",
       "</style>\n",
       "<table border=\"1\" class=\"dataframe\">\n",
       "  <thead>\n",
       "    <tr style=\"text-align: right;\">\n",
       "      <th></th>\n",
       "      <th>name</th>\n",
       "      <th>main_style</th>\n",
       "      <th>sub_styles</th>\n",
       "      <th>cloth_cat</th>\n",
       "      <th>color</th>\n",
       "      <th>pattern</th>\n",
       "      <th>length</th>\n",
       "      <th>arm_length</th>\n",
       "      <th>fit_cloth</th>\n",
       "      <th>fabric</th>\n",
       "    </tr>\n",
       "  </thead>\n",
       "  <tbody>\n",
       "    <tr>\n",
       "      <th>1400942</th>\n",
       "      <td>998957</td>\n",
       "      <td>운동</td>\n",
       "      <td>스포티</td>\n",
       "      <td>상의</td>\n",
       "      <td>실버</td>\n",
       "      <td>[무지]</td>\n",
       "      <td>노멀</td>\n",
       "      <td>긴팔</td>\n",
       "      <td>노멀</td>\n",
       "      <td>[저지]</td>\n",
       "    </tr>\n",
       "    <tr>\n",
       "      <th>1400943</th>\n",
       "      <td>998958</td>\n",
       "      <td>운동</td>\n",
       "      <td>스포티</td>\n",
       "      <td>하의</td>\n",
       "      <td>실버</td>\n",
       "      <td>None</td>\n",
       "      <td>맥시</td>\n",
       "      <td>None</td>\n",
       "      <td>노멀</td>\n",
       "      <td>[저지]</td>\n",
       "    </tr>\n",
       "    <tr>\n",
       "      <th>1400944</th>\n",
       "      <td>998958</td>\n",
       "      <td>운동</td>\n",
       "      <td>스포티</td>\n",
       "      <td>상의</td>\n",
       "      <td>실버</td>\n",
       "      <td>[무지]</td>\n",
       "      <td>노멀</td>\n",
       "      <td>긴팔</td>\n",
       "      <td>노멀</td>\n",
       "      <td>[저지]</td>\n",
       "    </tr>\n",
       "    <tr>\n",
       "      <th>1400945</th>\n",
       "      <td>998959</td>\n",
       "      <td>운동</td>\n",
       "      <td>스포티</td>\n",
       "      <td>하의</td>\n",
       "      <td>실버</td>\n",
       "      <td>None</td>\n",
       "      <td>맥시</td>\n",
       "      <td>None</td>\n",
       "      <td>노멀</td>\n",
       "      <td>[저지]</td>\n",
       "    </tr>\n",
       "    <tr>\n",
       "      <th>1400946</th>\n",
       "      <td>998959</td>\n",
       "      <td>운동</td>\n",
       "      <td>스포티</td>\n",
       "      <td>상의</td>\n",
       "      <td>실버</td>\n",
       "      <td>[무지]</td>\n",
       "      <td>노멀</td>\n",
       "      <td>긴팔</td>\n",
       "      <td>노멀</td>\n",
       "      <td>[저지]</td>\n",
       "    </tr>\n",
       "  </tbody>\n",
       "</table>\n",
       "</div>"
      ],
      "text/plain": [
       "           name main_style sub_styles cloth_cat color pattern length  \\\n",
       "1400942  998957         운동        스포티        상의    실버    [무지]     노멀   \n",
       "1400943  998958         운동        스포티        하의    실버    None     맥시   \n",
       "1400944  998958         운동        스포티        상의    실버    [무지]     노멀   \n",
       "1400945  998959         운동        스포티        하의    실버    None     맥시   \n",
       "1400946  998959         운동        스포티        상의    실버    [무지]     노멀   \n",
       "\n",
       "        arm_length fit_cloth fabric  \n",
       "1400942         긴팔        노멀   [저지]  \n",
       "1400943       None        노멀   [저지]  \n",
       "1400944         긴팔        노멀   [저지]  \n",
       "1400945       None        노멀   [저지]  \n",
       "1400946         긴팔        노멀   [저지]  "
      ]
     },
     "execution_count": 4,
     "metadata": {},
     "output_type": "execute_result"
    }
   ],
   "source": [
    "data.tail()"
   ]
  },
  {
   "cell_type": "code",
   "execution_count": 5,
   "id": "DRTGNJrkSzhQ",
   "metadata": {
    "colab": {
     "base_uri": "https://localhost:8080/"
    },
    "executionInfo": {
     "elapsed": 796,
     "status": "ok",
     "timestamp": 1650009974153,
     "user": {
      "displayName": "김유정",
      "userId": "01261970241974990583"
     },
     "user_tz": -540
    },
    "id": "DRTGNJrkSzhQ",
    "outputId": "9b0c0e7b-d339-4f67-de68-defe9224165c"
   },
   "outputs": [
    {
     "name": "stdout",
     "output_type": "stream",
     "text": [
      "<class 'pandas.core.frame.DataFrame'>\n",
      "RangeIndex: 1400947 entries, 0 to 1400946\n",
      "Data columns (total 10 columns):\n",
      " #   Column      Non-Null Count    Dtype \n",
      "---  ------      --------------    ----- \n",
      " 0   name        1400947 non-null  int64 \n",
      " 1   main_style  1400947 non-null  object\n",
      " 2   sub_styles  1400947 non-null  object\n",
      " 3   cloth_cat   1400947 non-null  object\n",
      " 4   color       1296656 non-null  object\n",
      " 5   pattern     1163932 non-null  object\n",
      " 6   length      1123326 non-null  object\n",
      " 7   arm_length  826513 non-null   object\n",
      " 8   fit_cloth   1308407 non-null  object\n",
      " 9   fabric      1291083 non-null  object\n",
      "dtypes: int64(1), object(9)\n",
      "memory usage: 106.9+ MB\n"
     ]
    }
   ],
   "source": [
    "data.info()"
   ]
  },
  {
   "cell_type": "code",
   "execution_count": 6,
   "id": "0Tf6TzmgTS9o",
   "metadata": {
    "colab": {
     "base_uri": "https://localhost:8080/"
    },
    "executionInfo": {
     "elapsed": 289,
     "status": "ok",
     "timestamp": 1650009987469,
     "user": {
      "displayName": "김유정",
      "userId": "01261970241974990583"
     },
     "user_tz": -540
    },
    "id": "0Tf6TzmgTS9o",
    "outputId": "e2fc7544-9e1c-4bf5-8f97-071629415b91"
   },
   "outputs": [
    {
     "data": {
      "text/plain": [
       "Index(['name', 'main_style', 'sub_styles', 'cloth_cat', 'color', 'pattern',\n",
       "       'length', 'arm_length', 'fit_cloth', 'fabric'],\n",
       "      dtype='object')"
      ]
     },
     "execution_count": 6,
     "metadata": {},
     "output_type": "execute_result"
    }
   ],
   "source": [
    "data.columns"
   ]
  },
  {
   "cell_type": "code",
   "execution_count": 7,
   "id": "VABhdgoNQZVo",
   "metadata": {
    "colab": {
     "base_uri": "https://localhost:8080/"
    },
    "executionInfo": {
     "elapsed": 6,
     "status": "ok",
     "timestamp": 1650009989876,
     "user": {
      "displayName": "김유정",
      "userId": "01261970241974990583"
     },
     "user_tz": -540
    },
    "id": "VABhdgoNQZVo",
    "outputId": "8379ae3a-104a-4160-93c7-09f8710a862e"
   },
   "outputs": [
    {
     "data": {
      "text/plain": [
       "array(['공', '기타', '사', '운동'], dtype=object)"
      ]
     },
     "execution_count": 7,
     "metadata": {},
     "output_type": "execute_result"
    }
   ],
   "source": [
    "data['main_style'].unique()"
   ]
  },
  {
   "cell_type": "code",
   "execution_count": 8,
   "id": "3mIgRUFZQnH-",
   "metadata": {
    "colab": {
     "base_uri": "https://localhost:8080/"
    },
    "executionInfo": {
     "elapsed": 6,
     "status": "ok",
     "timestamp": 1650010003329,
     "user": {
      "displayName": "김유정",
      "userId": "01261970241974990583"
     },
     "user_tz": -540
    },
    "id": "3mIgRUFZQnH-",
    "outputId": "35379b3e-7296-4b0b-e37d-1e1e44f06ef6"
   },
   "outputs": [
    {
     "data": {
      "text/plain": [
       "array(['매니시', '모던', '소피스트케이티드', '아방가르드', '젠더리스', '클래식', '톰보이', '레트로',\n",
       "       '오리엔탈', '키치', '히피', '로맨틱', '스트리트', '웨스턴', '컨트리', '펑크', '페미닌',\n",
       "       '프레피', '스포티'], dtype=object)"
      ]
     },
     "execution_count": 8,
     "metadata": {},
     "output_type": "execute_result"
    }
   ],
   "source": [
    "data['sub_styles'].unique()"
   ]
  },
  {
   "cell_type": "code",
   "execution_count": 14,
   "id": "5cbf05d6",
   "metadata": {
    "id": "5cbf05d6"
   },
   "outputs": [],
   "source": [
    "# -*- coding: utf-8 -*-\n",
    "import re\n",
    "\n",
    "hangul = re.compile('[^ ㄱ-ㅣ가-힣]+') # 한글과 띄어쓰기를 제외한 모든 글자\n",
    "\n",
    "data['fabric'] = [hangul.sub('', str(fabric)) for fabric in data.fabric]\n",
    "data['pattern'] = [hangul.sub('', str(pattern)) for pattern in data.pattern]"
   ]
  },
  {
   "cell_type": "code",
   "execution_count": null,
   "id": "hQuRnBWOSyzU",
   "metadata": {
    "colab": {
     "base_uri": "https://localhost:8080/"
    },
    "executionInfo": {
     "elapsed": 280,
     "status": "ok",
     "timestamp": 1649777440926,
     "user": {
      "displayName": "김유정",
      "userId": "01261970241974990583"
     },
     "user_tz": -540
    },
    "id": "hQuRnBWOSyzU",
    "outputId": "0104fe53-f6ac-4886-b4c2-22c655b86096"
   },
   "outputs": [
    {
     "data": {
      "text/plain": [
       "상의     571233\n",
       "하의     515812\n",
       "아우터    167999\n",
       "원피스    145903\n",
       "Name: cloth_cat, dtype: int64"
      ]
     },
     "execution_count": 55,
     "metadata": {},
     "output_type": "execute_result"
    }
   ],
   "source": [
    "data['cloth_cat'].value_counts()"
   ]
  },
  {
   "cell_type": "code",
   "execution_count": null,
   "id": "er6oX98DSV7C",
   "metadata": {
    "colab": {
     "base_uri": "https://localhost:8080/"
    },
    "executionInfo": {
     "elapsed": 273,
     "status": "ok",
     "timestamp": 1649777443245,
     "user": {
      "displayName": "김유정",
      "userId": "01261970241974990583"
     },
     "user_tz": -540
    },
    "id": "er6oX98DSV7C",
    "outputId": "8c688aad-7d9c-4b2b-b4f9-ba03f86b80d9"
   },
   "outputs": [
    {
     "data": {
      "text/plain": [
       "화이트      279443\n",
       "블랙       201819\n",
       "베이지      145681\n",
       "블루        94944\n",
       "스카이블루     88767\n",
       "핑크        75138\n",
       "네이비       69579\n",
       "그레이       68936\n",
       "브라운       54230\n",
       "카키        30715\n",
       "레드        26465\n",
       "실버        22887\n",
       "옐로우       22059\n",
       "그린        19028\n",
       "와인        18038\n",
       "오렌지       17262\n",
       "라벤더       17000\n",
       "퍼플        15800\n",
       "민트        14248\n",
       "골드         8227\n",
       "네온         6390\n",
       "Name: color, dtype: int64"
      ]
     },
     "execution_count": 56,
     "metadata": {},
     "output_type": "execute_result"
    }
   ],
   "source": [
    "data['color'].value_counts()"
   ]
  },
  {
   "cell_type": "code",
   "execution_count": null,
   "id": "HZKFYW90TfHQ",
   "metadata": {
    "colab": {
     "base_uri": "https://localhost:8080/"
    },
    "executionInfo": {
     "elapsed": 286,
     "status": "ok",
     "timestamp": 1649777449204,
     "user": {
      "displayName": "김유정",
      "userId": "01261970241974990583"
     },
     "user_tz": -540
    },
    "id": "HZKFYW90TfHQ",
    "outputId": "cf6d0eac-14d1-4a9b-94fb-b6978a50c568"
   },
   "outputs": [
    {
     "data": {
      "text/plain": [
       "노멀       640514\n",
       "루즈       377292\n",
       "스키니       94224\n",
       "와이드       71436\n",
       "타이트       52875\n",
       "오버사이즈     47421\n",
       "벨보텀       24645\n",
       "Name: fit_cloth, dtype: int64"
      ]
     },
     "execution_count": 57,
     "metadata": {},
     "output_type": "execute_result"
    }
   ],
   "source": [
    "data['fit_cloth'].value_counts()"
   ]
  },
  {
   "cell_type": "code",
   "execution_count": null,
   "id": "prOswQnVTjYk",
   "metadata": {
    "colab": {
     "base_uri": "https://localhost:8080/"
    },
    "executionInfo": {
     "elapsed": 289,
     "status": "ok",
     "timestamp": 1649777451737,
     "user": {
      "displayName": "김유정",
      "userId": "01261970241974990583"
     },
     "user_tz": -540
    },
    "id": "prOswQnVTjYk",
    "outputId": "696c709a-bf3f-46df-c8b7-dc7cc114a4f7"
   },
   "outputs": [
    {
     "data": {
      "text/plain": [
       "발목     304664\n",
       "노멀     235254\n",
       "롱      158996\n",
       "미디     113128\n",
       "미니     108847\n",
       "니렝스     62221\n",
       "하프      52680\n",
       "노말      48408\n",
       "크롭      21273\n",
       "맥시      17855\n",
       "Name: length, dtype: int64"
      ]
     },
     "execution_count": 58,
     "metadata": {},
     "output_type": "execute_result"
    }
   ],
   "source": [
    "data['length'].value_counts()"
   ]
  },
  {
   "cell_type": "code",
   "execution_count": null,
   "id": "72S2AEhqTnMx",
   "metadata": {
    "colab": {
     "base_uri": "https://localhost:8080/"
    },
    "executionInfo": {
     "elapsed": 422,
     "status": "ok",
     "timestamp": 1649777648252,
     "user": {
      "displayName": "김유정",
      "userId": "01261970241974990583"
     },
     "user_tz": -540
    },
    "id": "72S2AEhqTnMx",
    "outputId": "db7d7458-2696-48e1-ac94-2ae875eab7e7"
   },
   "outputs": [
    {
     "data": {
      "text/plain": [
       "array([None, '긴팔', '7부소매', '없음', '반팔', '민소매', '캡'], dtype=object)"
      ]
     },
     "execution_count": 69,
     "metadata": {},
     "output_type": "execute_result"
    }
   ],
   "source": [
    "data['arm_length'].unique()"
   ]
  },
  {
   "cell_type": "code",
   "execution_count": null,
   "id": "AzA5_v1rTsz1",
   "metadata": {
    "colab": {
     "base_uri": "https://localhost:8080/"
    },
    "executionInfo": {
     "elapsed": 278,
     "status": "ok",
     "timestamp": 1649778155635,
     "user": {
      "displayName": "김유정",
      "userId": "01261970241974990583"
     },
     "user_tz": -540
    },
    "id": "AzA5_v1rTsz1",
    "outputId": "5c563b2c-6adf-49de-830c-b9b2ea9bb304"
   },
   "outputs": [
    {
     "data": {
      "text/plain": [
       "array(['상의', '원피스'], dtype=object)"
      ]
     },
     "execution_count": 84,
     "metadata": {},
     "output_type": "execute_result"
    }
   ],
   "source": [
    "data[data['arm_length']=='없음']['cloth_cat'].unique()"
   ]
  },
  {
   "cell_type": "code",
   "execution_count": null,
   "id": "2I5pXwiGZppN",
   "metadata": {
    "colab": {
     "base_uri": "https://localhost:8080/"
    },
    "executionInfo": {
     "elapsed": 270,
     "status": "ok",
     "timestamp": 1649778131110,
     "user": {
      "displayName": "김유정",
      "userId": "01261970241974990583"
     },
     "user_tz": -540
    },
    "id": "2I5pXwiGZppN",
    "outputId": "df08c33d-18d7-4bb0-b5cb-5ae83383aa2e"
   },
   "outputs": [
    {
     "data": {
      "text/plain": [
       "array(['하의', '상의', '아우터', '원피스'], dtype=object)"
      ]
     },
     "execution_count": 83,
     "metadata": {},
     "output_type": "execute_result"
    }
   ],
   "source": [
    "data[data['arm_length'].isnull()]['cloth_cat'].unique()"
   ]
  },
  {
   "cell_type": "code",
   "execution_count": 15,
   "id": "a8a33bfd",
   "metadata": {},
   "outputs": [
    {
     "data": {
      "text/html": [
       "<div>\n",
       "<style scoped>\n",
       "    .dataframe tbody tr th:only-of-type {\n",
       "        vertical-align: middle;\n",
       "    }\n",
       "\n",
       "    .dataframe tbody tr th {\n",
       "        vertical-align: top;\n",
       "    }\n",
       "\n",
       "    .dataframe thead th {\n",
       "        text-align: right;\n",
       "    }\n",
       "</style>\n",
       "<table border=\"1\" class=\"dataframe\">\n",
       "  <thead>\n",
       "    <tr style=\"text-align: right;\">\n",
       "      <th></th>\n",
       "      <th>name</th>\n",
       "      <th>main_style</th>\n",
       "      <th>sub_styles</th>\n",
       "      <th>cloth_cat</th>\n",
       "      <th>color</th>\n",
       "      <th>pattern</th>\n",
       "      <th>length</th>\n",
       "      <th>arm_length</th>\n",
       "      <th>fit_cloth</th>\n",
       "      <th>fabric</th>\n",
       "    </tr>\n",
       "  </thead>\n",
       "  <tbody>\n",
       "    <tr>\n",
       "      <th>0</th>\n",
       "      <td>1002940</td>\n",
       "      <td>공</td>\n",
       "      <td>매니시</td>\n",
       "      <td>하의</td>\n",
       "      <td>와인</td>\n",
       "      <td>무지</td>\n",
       "      <td>발목</td>\n",
       "      <td>None</td>\n",
       "      <td>와이드</td>\n",
       "      <td>우븐</td>\n",
       "    </tr>\n",
       "    <tr>\n",
       "      <th>1</th>\n",
       "      <td>1002940</td>\n",
       "      <td>공</td>\n",
       "      <td>매니시</td>\n",
       "      <td>상의</td>\n",
       "      <td>화이트</td>\n",
       "      <td>무지</td>\n",
       "      <td>None</td>\n",
       "      <td>긴팔</td>\n",
       "      <td>노멀</td>\n",
       "      <td>우븐</td>\n",
       "    </tr>\n",
       "    <tr>\n",
       "      <th>2</th>\n",
       "      <td>1002941</td>\n",
       "      <td>공</td>\n",
       "      <td>매니시</td>\n",
       "      <td>하의</td>\n",
       "      <td>와인</td>\n",
       "      <td>무지</td>\n",
       "      <td>발목</td>\n",
       "      <td>None</td>\n",
       "      <td>와이드</td>\n",
       "      <td>우븐</td>\n",
       "    </tr>\n",
       "    <tr>\n",
       "      <th>3</th>\n",
       "      <td>1002941</td>\n",
       "      <td>공</td>\n",
       "      <td>매니시</td>\n",
       "      <td>상의</td>\n",
       "      <td>화이트</td>\n",
       "      <td>무지</td>\n",
       "      <td>None</td>\n",
       "      <td>긴팔</td>\n",
       "      <td>노멀</td>\n",
       "      <td>우븐</td>\n",
       "    </tr>\n",
       "    <tr>\n",
       "      <th>4</th>\n",
       "      <td>1002942</td>\n",
       "      <td>공</td>\n",
       "      <td>매니시</td>\n",
       "      <td>상의</td>\n",
       "      <td>베이지</td>\n",
       "      <td>무지</td>\n",
       "      <td>None</td>\n",
       "      <td>긴팔</td>\n",
       "      <td>노멀</td>\n",
       "      <td>우븐</td>\n",
       "    </tr>\n",
       "    <tr>\n",
       "      <th>...</th>\n",
       "      <td>...</td>\n",
       "      <td>...</td>\n",
       "      <td>...</td>\n",
       "      <td>...</td>\n",
       "      <td>...</td>\n",
       "      <td>...</td>\n",
       "      <td>...</td>\n",
       "      <td>...</td>\n",
       "      <td>...</td>\n",
       "      <td>...</td>\n",
       "    </tr>\n",
       "    <tr>\n",
       "      <th>1400942</th>\n",
       "      <td>998957</td>\n",
       "      <td>운동</td>\n",
       "      <td>스포티</td>\n",
       "      <td>상의</td>\n",
       "      <td>실버</td>\n",
       "      <td>무지</td>\n",
       "      <td>노멀</td>\n",
       "      <td>긴팔</td>\n",
       "      <td>노멀</td>\n",
       "      <td>저지</td>\n",
       "    </tr>\n",
       "    <tr>\n",
       "      <th>1400943</th>\n",
       "      <td>998958</td>\n",
       "      <td>운동</td>\n",
       "      <td>스포티</td>\n",
       "      <td>하의</td>\n",
       "      <td>실버</td>\n",
       "      <td></td>\n",
       "      <td>맥시</td>\n",
       "      <td>None</td>\n",
       "      <td>노멀</td>\n",
       "      <td>저지</td>\n",
       "    </tr>\n",
       "    <tr>\n",
       "      <th>1400944</th>\n",
       "      <td>998958</td>\n",
       "      <td>운동</td>\n",
       "      <td>스포티</td>\n",
       "      <td>상의</td>\n",
       "      <td>실버</td>\n",
       "      <td>무지</td>\n",
       "      <td>노멀</td>\n",
       "      <td>긴팔</td>\n",
       "      <td>노멀</td>\n",
       "      <td>저지</td>\n",
       "    </tr>\n",
       "    <tr>\n",
       "      <th>1400945</th>\n",
       "      <td>998959</td>\n",
       "      <td>운동</td>\n",
       "      <td>스포티</td>\n",
       "      <td>하의</td>\n",
       "      <td>실버</td>\n",
       "      <td></td>\n",
       "      <td>맥시</td>\n",
       "      <td>None</td>\n",
       "      <td>노멀</td>\n",
       "      <td>저지</td>\n",
       "    </tr>\n",
       "    <tr>\n",
       "      <th>1400946</th>\n",
       "      <td>998959</td>\n",
       "      <td>운동</td>\n",
       "      <td>스포티</td>\n",
       "      <td>상의</td>\n",
       "      <td>실버</td>\n",
       "      <td>무지</td>\n",
       "      <td>노멀</td>\n",
       "      <td>긴팔</td>\n",
       "      <td>노멀</td>\n",
       "      <td>저지</td>\n",
       "    </tr>\n",
       "  </tbody>\n",
       "</table>\n",
       "<p>1400947 rows × 10 columns</p>\n",
       "</div>"
      ],
      "text/plain": [
       "            name main_style sub_styles cloth_cat color pattern length  \\\n",
       "0        1002940          공        매니시        하의    와인      무지     발목   \n",
       "1        1002940          공        매니시        상의   화이트      무지   None   \n",
       "2        1002941          공        매니시        하의    와인      무지     발목   \n",
       "3        1002941          공        매니시        상의   화이트      무지   None   \n",
       "4        1002942          공        매니시        상의   베이지      무지   None   \n",
       "...          ...        ...        ...       ...   ...     ...    ...   \n",
       "1400942   998957         운동        스포티        상의    실버      무지     노멀   \n",
       "1400943   998958         운동        스포티        하의    실버             맥시   \n",
       "1400944   998958         운동        스포티        상의    실버      무지     노멀   \n",
       "1400945   998959         운동        스포티        하의    실버             맥시   \n",
       "1400946   998959         운동        스포티        상의    실버      무지     노멀   \n",
       "\n",
       "        arm_length fit_cloth fabric  \n",
       "0             None       와이드     우븐  \n",
       "1               긴팔        노멀     우븐  \n",
       "2             None       와이드     우븐  \n",
       "3               긴팔        노멀     우븐  \n",
       "4               긴팔        노멀     우븐  \n",
       "...            ...       ...    ...  \n",
       "1400942         긴팔        노멀     저지  \n",
       "1400943       None        노멀     저지  \n",
       "1400944         긴팔        노멀     저지  \n",
       "1400945       None        노멀     저지  \n",
       "1400946         긴팔        노멀     저지  \n",
       "\n",
       "[1400947 rows x 10 columns]"
      ]
     },
     "execution_count": 15,
     "metadata": {},
     "output_type": "execute_result"
    }
   ],
   "source": [
    "data"
   ]
  },
  {
   "cell_type": "code",
   "execution_count": 16,
   "id": "8gepE6aWjXC0",
   "metadata": {
    "id": "8gepE6aWjXC0"
   },
   "outputs": [],
   "source": [
    "data.to_pickle(\"df3.pkl\")"
   ]
  },
  {
   "cell_type": "code",
   "execution_count": null,
   "id": "15cbdcc1",
   "metadata": {},
   "outputs": [],
   "source": []
  }
 ],
 "metadata": {
  "colab": {
   "name": "recommend_EDA.ipynb",
   "provenance": []
  },
  "kernelspec": {
   "display_name": "Python 3 (ipykernel)",
   "language": "python",
   "name": "python3"
  },
  "language_info": {
   "codemirror_mode": {
    "name": "ipython",
    "version": 3
   },
   "file_extension": ".py",
   "mimetype": "text/x-python",
   "name": "python",
   "nbconvert_exporter": "python",
   "pygments_lexer": "ipython3",
   "version": "3.9.7"
  }
 },
 "nbformat": 4,
 "nbformat_minor": 5
}
