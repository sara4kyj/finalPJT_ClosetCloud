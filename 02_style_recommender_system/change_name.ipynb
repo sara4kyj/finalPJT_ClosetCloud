{
 "cells": [
  {
   "cell_type": "code",
   "execution_count": 1,
   "id": "tL1GBcZ7kKp-",
   "metadata": {
    "colab": {
     "base_uri": "https://localhost:8080/"
    },
    "executionInfo": {
     "elapsed": 17230,
     "status": "ok",
     "timestamp": 1649209846622,
     "user": {
      "displayName": "이탁형",
      "userId": "07665424833237597736"
     },
     "user_tz": -540
    },
    "id": "tL1GBcZ7kKp-",
    "outputId": "7f767cc8-aec3-4c13-c5f5-54b078285891"
   },
   "outputs": [
    {
     "name": "stdout",
     "output_type": "stream",
     "text": [
      "Mounted at /content/drive\n"
     ]
    }
   ],
   "source": [
    "from google.colab import drive\n",
    "drive.mount('/content/drive')"
   ]
  },
  {
   "cell_type": "code",
   "execution_count": 28,
   "id": "b80af762",
   "metadata": {
    "executionInfo": {
     "elapsed": 408,
     "status": "ok",
     "timestamp": 1649209861688,
     "user": {
      "displayName": "이탁형",
      "userId": "07665424833237597736"
     },
     "user_tz": -540
    },
    "id": "b80af762"
   },
   "outputs": [],
   "source": [
    "import os\n",
    "import glob\n",
    "import json"
   ]
  },
  {
   "cell_type": "code",
   "execution_count": 17,
   "id": "33151615",
   "metadata": {
    "executionInfo": {
     "elapsed": 359,
     "status": "ok",
     "timestamp": 1649209867607,
     "user": {
      "displayName": "이탁형",
      "userId": "07665424833237597736"
     },
     "user_tz": -540
    },
    "id": "33151615"
   },
   "outputs": [],
   "source": [
    "s_path = './dataset/Training/라벨링데이터/공/*'"
   ]
  },
  {
   "cell_type": "code",
   "execution_count": 21,
   "id": "c9a67ad3",
   "metadata": {
    "id": "c9a67ad3",
    "outputId": "5cd962b6-d8c0-4dae-faf1-fb031dcab8eb"
   },
   "outputs": [
    {
     "data": {
      "text/plain": [
       "'매니시'"
      ]
     },
     "execution_count": 21,
     "metadata": {},
     "output_type": "execute_result"
    }
   ],
   "source": [
    "glob.glob(s_path)[0].split('\\\\')[1]"
   ]
  },
  {
   "cell_type": "code",
   "execution_count": 68,
   "id": "53cc16bd",
   "metadata": {
    "id": "53cc16bd"
   },
   "outputs": [],
   "source": [
    "folder_list = glob.glob(s_path)"
   ]
  },
  {
   "cell_type": "code",
   "execution_count": 69,
   "id": "b6e321fa",
   "metadata": {
    "id": "b6e321fa",
    "outputId": "6e7e568a-ae7d-4eed-dfcf-9a5ebf522fdc"
   },
   "outputs": [
    {
     "data": {
      "text/plain": [
       "['./dataset/Training/라벨링데이터/공\\\\매니시',\n",
       " './dataset/Training/라벨링데이터/공\\\\모던',\n",
       " './dataset/Training/라벨링데이터/공\\\\소피스트케이티드',\n",
       " './dataset/Training/라벨링데이터/공\\\\아방가르드',\n",
       " './dataset/Training/라벨링데이터/공\\\\젠더리스',\n",
       " './dataset/Training/라벨링데이터/공\\\\클래식',\n",
       " './dataset/Training/라벨링데이터/공\\\\톰보이']"
      ]
     },
     "execution_count": 69,
     "metadata": {},
     "output_type": "execute_result"
    }
   ],
   "source": [
    "folder_list[:10]"
   ]
  },
  {
   "cell_type": "code",
   "execution_count": 90,
   "id": "8c0aacef",
   "metadata": {},
   "outputs": [],
   "source": [
    "file_list = glob.glob(folder_list[0]+'/*')"
   ]
  },
  {
   "cell_type": "code",
   "execution_count": 96,
   "id": "7ac147a3",
   "metadata": {},
   "outputs": [
    {
     "data": {
      "text/plain": [
       "'1002940.json'"
      ]
     },
     "execution_count": 96,
     "metadata": {},
     "output_type": "execute_result"
    }
   ],
   "source": [
    "file_list[0].split('\\\\')[-1]"
   ]
  },
  {
   "cell_type": "code",
   "execution_count": 99,
   "id": "af680d3e",
   "metadata": {
    "id": "af680d3e"
   },
   "outputs": [],
   "source": [
    "# 파일 명 리스트로 만들기\n",
    "file_name_list = [i.split('\\\\')[-1] for i in file_list]"
   ]
  },
  {
   "cell_type": "code",
   "execution_count": 100,
   "id": "d1f48502",
   "metadata": {
    "id": "d1f48502",
    "outputId": "18d2cb1d-2229-4ef9-e8eb-7bd0edac05a2"
   },
   "outputs": [
    {
     "data": {
      "text/plain": [
       "(8488,\n",
       " ['1002940.json',\n",
       "  '1002941.json',\n",
       "  '1002942.json',\n",
       "  '1002943.json',\n",
       "  '1002944.json',\n",
       "  '1002947.json',\n",
       "  '1002948.json',\n",
       "  '1002949.json',\n",
       "  '1002950.json',\n",
       "  '1002951.json'])"
      ]
     },
     "execution_count": 100,
     "metadata": {},
     "output_type": "execute_result"
    }
   ],
   "source": [
    "len(file_name_list), file_name_list[:10]"
   ]
  },
  {
   "cell_type": "code",
   "execution_count": 33,
   "id": "5bdd68f4",
   "metadata": {},
   "outputs": [],
   "source": [
    "file_path = './dataset/Training/라벨링데이터/공/매니시/1002940.json'\n",
    "with open(file_path, 'r', encoding='utf-8') as file:\n",
    "    data = json.load(file)"
   ]
  },
  {
   "cell_type": "code",
   "execution_count": 101,
   "id": "07e25143",
   "metadata": {},
   "outputs": [
    {
     "data": {
      "text/plain": [
       "{'스타일': [{'스타일': '매니시'}],\n",
       " '아우터': [{}],\n",
       " '하의': [{'기장': '발목',\n",
       "   '색상': '와인',\n",
       "   '카테고리': '팬츠',\n",
       "   '소재': ['우븐'],\n",
       "   '프린트': ['무지'],\n",
       "   '핏': '와이드'}],\n",
       " '원피스': [{}],\n",
       " '상의': [{'색상': '화이트',\n",
       "   '카테고리': '셔츠',\n",
       "   '옷깃': '폴로칼라',\n",
       "   '소매기장': '긴팔',\n",
       "   '소재': ['우븐'],\n",
       "   '프린트': ['무지'],\n",
       "   '핏': '노멀'}]}"
      ]
     },
     "execution_count": 101,
     "metadata": {},
     "output_type": "execute_result"
    }
   ],
   "source": [
    "data['데이터셋 정보']['데이터셋 상세설명']['라벨링']"
   ]
  },
  {
   "cell_type": "code",
   "execution_count": 64,
   "id": "c643b9ad",
   "metadata": {},
   "outputs": [
    {
     "data": {
      "text/plain": [
       "1002940"
      ]
     },
     "execution_count": 64,
     "metadata": {},
     "output_type": "execute_result"
    }
   ],
   "source": [
    "data['데이터셋 정보']['파일 번호']"
   ]
  },
  {
   "cell_type": "code",
   "execution_count": 58,
   "id": "58265c15",
   "metadata": {},
   "outputs": [
    {
     "data": {
      "text/plain": [
       "'매니시'"
      ]
     },
     "execution_count": 58,
     "metadata": {},
     "output_type": "execute_result"
    }
   ],
   "source": [
    "data['데이터셋 정보']['데이터셋 상세설명']['라벨링']['스타일'][0]['스타일']"
   ]
  },
  {
   "cell_type": "code",
   "execution_count": 65,
   "id": "f6169132",
   "metadata": {},
   "outputs": [
    {
     "data": {
      "text/plain": [
       "{'색상': '화이트',\n",
       " '카테고리': '셔츠',\n",
       " '옷깃': '폴로칼라',\n",
       " '소매기장': '긴팔',\n",
       " '소재': ['우븐'],\n",
       " '프린트': ['무지'],\n",
       " '핏': '노멀'}"
      ]
     },
     "execution_count": 65,
     "metadata": {},
     "output_type": "execute_result"
    }
   ],
   "source": [
    "data['데이터셋 정보']['데이터셋 상세설명']['라벨링']['상의'][0]"
   ]
  },
  {
   "cell_type": "code",
   "execution_count": 66,
   "id": "0c3fcb62",
   "metadata": {},
   "outputs": [
    {
     "data": {
      "text/plain": [
       "{'기장': '발목', '색상': '와인', '카테고리': '팬츠', '소재': ['우븐'], '프린트': ['무지'], '핏': '와이드'}"
      ]
     },
     "execution_count": 66,
     "metadata": {},
     "output_type": "execute_result"
    }
   ],
   "source": [
    "data['데이터셋 정보']['데이터셋 상세설명']['라벨링']['하의'][0]['색상']"
   ]
  },
  {
   "cell_type": "code",
   "execution_count": 102,
   "id": "3aa71aca",
   "metadata": {},
   "outputs": [],
   "source": [
    "file_path = './dataset/Training/라벨링데이터/공/매니시/1736.json'\n",
    "with open(file_path, 'r', encoding='utf-8') as file:\n",
    "    data_1736 = json.load(file)"
   ]
  },
  {
   "cell_type": "code",
   "execution_count": 103,
   "id": "1eede00c",
   "metadata": {},
   "outputs": [
    {
     "data": {
      "text/plain": [
       "{'스타일': [{'스타일': '매니시', '서브스타일': '클래식'}],\n",
       " '아우터': [{'기장': '맥시',\n",
       "   '색상': '브라운',\n",
       "   '서브색상': '베이지',\n",
       "   '카테고리': '코트',\n",
       "   '디테일': ['더블브레스티드', '드롭숄더'],\n",
       "   '소매기장': '긴팔',\n",
       "   '소재': ['울/캐시미어'],\n",
       "   '프린트': ['무지'],\n",
       "   '넥라인': '노카라',\n",
       "   '핏': '오버사이즈'}],\n",
       " '하의': [{'기장': '발목',\n",
       "   '색상': '베이지',\n",
       "   '카테고리': '팬츠',\n",
       "   '소재': ['우븐'],\n",
       "   '프린트': ['무지'],\n",
       "   '핏': '와이드'}],\n",
       " '원피스': [{}],\n",
       " '상의': [{'기장': '노멀',\n",
       "   '색상': '베이지',\n",
       "   '카테고리': '니트웨어',\n",
       "   '소매기장': '없음',\n",
       "   '소재': ['니트'],\n",
       "   '프린트': ['무지'],\n",
       "   '넥라인': '라운드넥',\n",
       "   '핏': '루즈'}]}"
      ]
     },
     "execution_count": 103,
     "metadata": {},
     "output_type": "execute_result"
    }
   ],
   "source": [
    "data_1736['데이터셋 정보']['데이터셋 상세설명']['라벨링']"
   ]
  },
  {
   "cell_type": "code",
   "execution_count": 104,
   "id": "208be100",
   "metadata": {},
   "outputs": [],
   "source": [
    "file_path = './dataset/Training/라벨링데이터/공/소피스트케이티드/2001.json'\n",
    "with open(file_path, 'r', encoding='utf-8') as file:\n",
    "    data_2001 = json.load(file)"
   ]
  },
  {
   "cell_type": "code",
   "execution_count": 105,
   "id": "b007dea1",
   "metadata": {},
   "outputs": [
    {
     "data": {
      "text/plain": [
       "{'스타일': [{'스타일': '소피스트케이티드', '서브스타일': '페미닌'}],\n",
       " '아우터': [{}],\n",
       " '하의': [{}],\n",
       " '원피스': [{'기장': '니렝스',\n",
       "   '색상': '네이비',\n",
       "   '카테고리': '드레스',\n",
       "   '디테일': ['비즈'],\n",
       "   '소매기장': '7부소매',\n",
       "   '소재': ['우븐'],\n",
       "   '넥라인': '라운드넥',\n",
       "   '핏': '타이트'}],\n",
       " '상의': [{}]}"
      ]
     },
     "execution_count": 105,
     "metadata": {},
     "output_type": "execute_result"
    }
   ],
   "source": [
    "data_2001['데이터셋 정보']['데이터셋 상세설명']['라벨링']"
   ]
  },
  {
   "cell_type": "code",
   "execution_count": 8,
   "id": "6739a007",
   "metadata": {
    "id": "6739a007"
   },
   "outputs": [],
   "source": [
    "# category_name 저장\n",
    "style_info_list=[]\n",
    "\n",
    "for folder in folder_name_list:\n",
    "    for filename in file_name_list:\n",
    "        file_path = folder+'/'+filename\n",
    "        with open(file_path, 'r') as file:\n",
    "            data = json.load(file)\n",
    "            style = data['데이터셋 정보']['데이터셋 상세설명']['라벨링']['스타일'][0]['스타일']\n",
    "            "
   ]
  },
  {
   "cell_type": "code",
   "execution_count": 9,
   "id": "5e54fa9c",
   "metadata": {
    "id": "5e54fa9c",
    "outputId": "6e68fd86-da85-49c7-b116-539e1f2f887c",
    "scrolled": true
   },
   "outputs": [
    {
     "data": {
      "text/plain": [
       "(33170,\n",
       " [['0928015_B', 'tops'],\n",
       "  ['0928015_F', 'tops'],\n",
       "  ['0929029_B', 'tops'],\n",
       "  ['0929029_F', 'tops'],\n",
       "  ['1008001_B', 'tops'],\n",
       "  ['1008001_F', 'tops'],\n",
       "  ['1008004_B', 'tops'],\n",
       "  ['1008004_F', 'tops'],\n",
       "  ['1008006_B', 'tops'],\n",
       "  ['1008006_F', 'tops']])"
      ]
     },
     "execution_count": 9,
     "metadata": {},
     "output_type": "execute_result"
    }
   ],
   "source": [
    "len(file_cat), file_cat[:10]"
   ]
  },
  {
   "cell_type": "code",
   "execution_count": 10,
   "id": "c74e8855",
   "metadata": {
    "id": "c74e8855"
   },
   "outputs": [],
   "source": [
    "import pandas\n",
    "\n",
    "df = pandas.DataFrame(file_cat, columns = ['filename', 'cat'])"
   ]
  },
  {
   "cell_type": "code",
   "execution_count": 11,
   "id": "3455aaf5",
   "metadata": {
    "id": "3455aaf5",
    "outputId": "0d6a77bf-75e3-4a92-fc32-1740cc60b6a3"
   },
   "outputs": [
    {
     "data": {
      "text/html": [
       "<div>\n",
       "<style scoped>\n",
       "    .dataframe tbody tr th:only-of-type {\n",
       "        vertical-align: middle;\n",
       "    }\n",
       "\n",
       "    .dataframe tbody tr th {\n",
       "        vertical-align: top;\n",
       "    }\n",
       "\n",
       "    .dataframe thead th {\n",
       "        text-align: right;\n",
       "    }\n",
       "</style>\n",
       "<table border=\"1\" class=\"dataframe\">\n",
       "  <thead>\n",
       "    <tr style=\"text-align: right;\">\n",
       "      <th></th>\n",
       "      <th>filename</th>\n",
       "      <th>cat</th>\n",
       "    </tr>\n",
       "  </thead>\n",
       "  <tbody>\n",
       "    <tr>\n",
       "      <th>0</th>\n",
       "      <td>0928015_B</td>\n",
       "      <td>tops</td>\n",
       "    </tr>\n",
       "    <tr>\n",
       "      <th>1</th>\n",
       "      <td>0928015_F</td>\n",
       "      <td>tops</td>\n",
       "    </tr>\n",
       "    <tr>\n",
       "      <th>2</th>\n",
       "      <td>0929029_B</td>\n",
       "      <td>tops</td>\n",
       "    </tr>\n",
       "    <tr>\n",
       "      <th>3</th>\n",
       "      <td>0929029_F</td>\n",
       "      <td>tops</td>\n",
       "    </tr>\n",
       "    <tr>\n",
       "      <th>4</th>\n",
       "      <td>1008001_B</td>\n",
       "      <td>tops</td>\n",
       "    </tr>\n",
       "  </tbody>\n",
       "</table>\n",
       "</div>"
      ],
      "text/plain": [
       "    filename   cat\n",
       "0  0928015_B  tops\n",
       "1  0928015_F  tops\n",
       "2  0929029_B  tops\n",
       "3  0929029_F  tops\n",
       "4  1008001_B  tops"
      ]
     },
     "execution_count": 11,
     "metadata": {},
     "output_type": "execute_result"
    }
   ],
   "source": [
    "df.head()"
   ]
  },
  {
   "cell_type": "code",
   "execution_count": 12,
   "id": "6b5a9ded",
   "metadata": {
    "id": "6b5a9ded",
    "outputId": "16b20beb-3fbb-4c27-d528-fd140642c5b1"
   },
   "outputs": [
    {
     "data": {
      "text/plain": [
       "array(['tops', 'bottoms', 'cap_and_hat', 'outerwear', 'shoes'],\n",
       "      dtype=object)"
      ]
     },
     "execution_count": 12,
     "metadata": {},
     "output_type": "execute_result"
    }
   ],
   "source": [
    "df.cat.unique()"
   ]
  },
  {
   "cell_type": "code",
   "execution_count": 13,
   "id": "0347bca8",
   "metadata": {
    "id": "0347bca8"
   },
   "outputs": [],
   "source": [
    "# 이미지 파일 라벨 기준 분류 작업\n",
    "import shutil\n",
    "\n",
    "for (filename, cat) in zip(df.filename, df.cat):\n",
    "        try:\n",
    "            if (cat == 'cap_and_hat') or (cat == 'shoes'):\n",
    "                file_path = f'./Item-Image_02/{filename}.jpg'\n",
    "                os.remove(file_path)\n",
    "            else:\n",
    "                chpath = f'./Item-Image_02/{cat}/'\n",
    "                if not os.path.exists(chpath):\n",
    "                    os.makedirs(chpath)\n",
    "                shutil.move(f'./Item-Image_02/{filename}.jpg', chpath+f'{filename}.jpg')\n",
    "        except:\n",
    "            pass"
   ]
  },
  {
   "cell_type": "code",
   "execution_count": null,
   "id": "baed46bd",
   "metadata": {
    "id": "baed46bd"
   },
   "outputs": [],
   "source": []
  }
 ],
 "metadata": {
  "colab": {
   "name": "delete_s_h.ipynb",
   "provenance": []
  },
  "kernelspec": {
   "display_name": "Python 3 (ipykernel)",
   "language": "python",
   "name": "python3"
  },
  "language_info": {
   "codemirror_mode": {
    "name": "ipython",
    "version": 3
   },
   "file_extension": ".py",
   "mimetype": "text/x-python",
   "name": "python",
   "nbconvert_exporter": "python",
   "pygments_lexer": "ipython3",
   "version": "3.9.7"
  }
 },
 "nbformat": 4,
 "nbformat_minor": 5
}
