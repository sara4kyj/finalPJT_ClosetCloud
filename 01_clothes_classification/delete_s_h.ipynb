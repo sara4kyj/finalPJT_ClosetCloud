{
 "cells": [
  {
   "cell_type": "code",
   "execution_count": 1,
   "id": "tL1GBcZ7kKp-",
   "metadata": {
    "colab": {
     "base_uri": "https://localhost:8080/"
    },
    "executionInfo": {
     "elapsed": 17230,
     "status": "ok",
     "timestamp": 1649209846622,
     "user": {
      "displayName": "이탁형",
      "userId": "07665424833237597736"
     },
     "user_tz": -540
    },
    "id": "tL1GBcZ7kKp-",
    "outputId": "7f767cc8-aec3-4c13-c5f5-54b078285891"
   },
   "outputs": [
    {
     "name": "stdout",
     "output_type": "stream",
     "text": [
      "Mounted at /content/drive\n"
     ]
    }
   ],
   "source": [
    "from google.colab import drive\n",
    "drive.mount('/content/drive')"
   ]
  },
  {
   "cell_type": "code",
   "execution_count": 1,
   "id": "b80af762",
   "metadata": {
    "executionInfo": {
     "elapsed": 408,
     "status": "ok",
     "timestamp": 1649209861688,
     "user": {
      "displayName": "이탁형",
      "userId": "07665424833237597736"
     },
     "user_tz": -540
    },
    "id": "b80af762"
   },
   "outputs": [],
   "source": [
    "import os\n",
    "import glob"
   ]
  },
  {
   "cell_type": "code",
   "execution_count": 2,
   "id": "33151615",
   "metadata": {
    "executionInfo": {
     "elapsed": 359,
     "status": "ok",
     "timestamp": 1649209867607,
     "user": {
      "displayName": "이탁형",
      "userId": "07665424833237597736"
     },
     "user_tz": -540
    },
    "id": "33151615"
   },
   "outputs": [],
   "source": [
    "s_path = './Item-Pose_f/*'"
   ]
  },
  {
   "cell_type": "code",
   "execution_count": 3,
   "id": "c9a67ad3",
   "metadata": {
    "id": "c9a67ad3",
    "outputId": "5cd962b6-d8c0-4dae-faf1-fb031dcab8eb"
   },
   "outputs": [
    {
     "data": {
      "text/plain": [
       "'0928015_B'"
      ]
     },
     "execution_count": 3,
     "metadata": {},
     "output_type": "execute_result"
    }
   ],
   "source": [
    "glob.glob(s_path)[0].split('\\\\')[1].split('.')[0]"
   ]
  },
  {
   "cell_type": "code",
   "execution_count": 4,
   "id": "53cc16bd",
   "metadata": {
    "id": "53cc16bd"
   },
   "outputs": [],
   "source": [
    "file_list = glob.glob(s_path)"
   ]
  },
  {
   "cell_type": "code",
   "execution_count": 5,
   "id": "b6e321fa",
   "metadata": {
    "id": "b6e321fa",
    "outputId": "6e7e568a-ae7d-4eed-dfcf-9a5ebf522fdc"
   },
   "outputs": [
    {
     "data": {
      "text/plain": [
       "['./Item-Pose_f\\\\0928015_B.json',\n",
       " './Item-Pose_f\\\\0928015_F.json',\n",
       " './Item-Pose_f\\\\0929029_B.json',\n",
       " './Item-Pose_f\\\\0929029_F.json',\n",
       " './Item-Pose_f\\\\1008001_B.json',\n",
       " './Item-Pose_f\\\\1008001_F.json',\n",
       " './Item-Pose_f\\\\1008004_B.json',\n",
       " './Item-Pose_f\\\\1008004_F.json',\n",
       " './Item-Pose_f\\\\1008006_B.json',\n",
       " './Item-Pose_f\\\\1008006_F.json']"
      ]
     },
     "execution_count": 5,
     "metadata": {},
     "output_type": "execute_result"
    }
   ],
   "source": [
    "file_list[:10]"
   ]
  },
  {
   "cell_type": "code",
   "execution_count": 6,
   "id": "af680d3e",
   "metadata": {
    "id": "af680d3e"
   },
   "outputs": [],
   "source": [
    "# 파일 명 리스트로 만들기\n",
    "file_name_list = [file_list[i].split('\\\\')[1].split('.')[0] for i in range(len(file_list))]"
   ]
  },
  {
   "cell_type": "code",
   "execution_count": 7,
   "id": "d1f48502",
   "metadata": {
    "id": "d1f48502",
    "outputId": "18d2cb1d-2229-4ef9-e8eb-7bd0edac05a2"
   },
   "outputs": [
    {
     "data": {
      "text/plain": [
       "(33170,\n",
       " ['0928015_B',\n",
       "  '0928015_F',\n",
       "  '0929029_B',\n",
       "  '0929029_F',\n",
       "  '1008001_B',\n",
       "  '1008001_F',\n",
       "  '1008004_B',\n",
       "  '1008004_F',\n",
       "  '1008006_B',\n",
       "  '1008006_F'])"
      ]
     },
     "execution_count": 7,
     "metadata": {},
     "output_type": "execute_result"
    }
   ],
   "source": [
    "len(file_name_list), file_name_list[:10]"
   ]
  },
  {
   "cell_type": "code",
   "execution_count": 8,
   "id": "6739a007",
   "metadata": {
    "id": "6739a007"
   },
   "outputs": [],
   "source": [
    "# category_name 저장\n",
    "import json\n",
    "\n",
    "file_cat=[]\n",
    "\n",
    "for filename in file_name_list:\n",
    "    file_path = f'./Item-Pose_f/{filename}.json'\n",
    "    with open(file_path, 'r') as file:\n",
    "        data = json.load(file)\n",
    "        file_cat.append([filename, data[\"category_name\"]])"
   ]
  },
  {
   "cell_type": "code",
   "execution_count": 9,
   "id": "5e54fa9c",
   "metadata": {
    "id": "5e54fa9c",
    "outputId": "6e68fd86-da85-49c7-b116-539e1f2f887c",
    "scrolled": true
   },
   "outputs": [
    {
     "data": {
      "text/plain": [
       "(33170,\n",
       " [['0928015_B', 'tops'],\n",
       "  ['0928015_F', 'tops'],\n",
       "  ['0929029_B', 'tops'],\n",
       "  ['0929029_F', 'tops'],\n",
       "  ['1008001_B', 'tops'],\n",
       "  ['1008001_F', 'tops'],\n",
       "  ['1008004_B', 'tops'],\n",
       "  ['1008004_F', 'tops'],\n",
       "  ['1008006_B', 'tops'],\n",
       "  ['1008006_F', 'tops']])"
      ]
     },
     "execution_count": 9,
     "metadata": {},
     "output_type": "execute_result"
    }
   ],
   "source": [
    "len(file_cat), file_cat[:10]"
   ]
  },
  {
   "cell_type": "code",
   "execution_count": 10,
   "id": "c74e8855",
   "metadata": {
    "id": "c74e8855"
   },
   "outputs": [],
   "source": [
    "import pandas\n",
    "\n",
    "df = pandas.DataFrame(file_cat, columns = ['filename', 'cat'])"
   ]
  },
  {
   "cell_type": "code",
   "execution_count": 11,
   "id": "3455aaf5",
   "metadata": {
    "id": "3455aaf5",
    "outputId": "0d6a77bf-75e3-4a92-fc32-1740cc60b6a3"
   },
   "outputs": [
    {
     "data": {
      "text/html": [
       "<div>\n",
       "<style scoped>\n",
       "    .dataframe tbody tr th:only-of-type {\n",
       "        vertical-align: middle;\n",
       "    }\n",
       "\n",
       "    .dataframe tbody tr th {\n",
       "        vertical-align: top;\n",
       "    }\n",
       "\n",
       "    .dataframe thead th {\n",
       "        text-align: right;\n",
       "    }\n",
       "</style>\n",
       "<table border=\"1\" class=\"dataframe\">\n",
       "  <thead>\n",
       "    <tr style=\"text-align: right;\">\n",
       "      <th></th>\n",
       "      <th>filename</th>\n",
       "      <th>cat</th>\n",
       "    </tr>\n",
       "  </thead>\n",
       "  <tbody>\n",
       "    <tr>\n",
       "      <th>0</th>\n",
       "      <td>0928015_B</td>\n",
       "      <td>tops</td>\n",
       "    </tr>\n",
       "    <tr>\n",
       "      <th>1</th>\n",
       "      <td>0928015_F</td>\n",
       "      <td>tops</td>\n",
       "    </tr>\n",
       "    <tr>\n",
       "      <th>2</th>\n",
       "      <td>0929029_B</td>\n",
       "      <td>tops</td>\n",
       "    </tr>\n",
       "    <tr>\n",
       "      <th>3</th>\n",
       "      <td>0929029_F</td>\n",
       "      <td>tops</td>\n",
       "    </tr>\n",
       "    <tr>\n",
       "      <th>4</th>\n",
       "      <td>1008001_B</td>\n",
       "      <td>tops</td>\n",
       "    </tr>\n",
       "  </tbody>\n",
       "</table>\n",
       "</div>"
      ],
      "text/plain": [
       "    filename   cat\n",
       "0  0928015_B  tops\n",
       "1  0928015_F  tops\n",
       "2  0929029_B  tops\n",
       "3  0929029_F  tops\n",
       "4  1008001_B  tops"
      ]
     },
     "execution_count": 11,
     "metadata": {},
     "output_type": "execute_result"
    }
   ],
   "source": [
    "df.head()"
   ]
  },
  {
   "cell_type": "code",
   "execution_count": 12,
   "id": "6b5a9ded",
   "metadata": {
    "id": "6b5a9ded",
    "outputId": "16b20beb-3fbb-4c27-d528-fd140642c5b1"
   },
   "outputs": [
    {
     "data": {
      "text/plain": [
       "array(['tops', 'bottoms', 'cap_and_hat', 'outerwear', 'shoes'],\n",
       "      dtype=object)"
      ]
     },
     "execution_count": 12,
     "metadata": {},
     "output_type": "execute_result"
    }
   ],
   "source": [
    "df.cat.unique()"
   ]
  },
  {
   "cell_type": "code",
   "execution_count": 13,
   "id": "0347bca8",
   "metadata": {
    "id": "0347bca8"
   },
   "outputs": [],
   "source": [
    "# 이미지 파일 라벨 기준 분류 작업\n",
    "import shutil\n",
    "\n",
    "for (filename, cat) in zip(df.filename, df.cat):\n",
    "        try:\n",
    "            if (cat == 'cap_and_hat') or (cat == 'shoes'):\n",
    "                file_path = f'./Item-Image_02/{filename}.jpg'\n",
    "                os.remove(file_path)\n",
    "            else:\n",
    "                chpath = f'./Item-Image_02/{cat}/'\n",
    "                if not os.path.exists(chpath):\n",
    "                    os.makedirs(chpath)\n",
    "                shutil.move(f'./Item-Image_02/{filename}.jpg', chpath+f'{filename}.jpg')\n",
    "        except:\n",
    "            pass"
   ]
  },
  {
   "cell_type": "code",
   "execution_count": null,
   "id": "baed46bd",
   "metadata": {
    "id": "baed46bd"
   },
   "outputs": [],
   "source": []
  }
 ],
 "metadata": {
  "colab": {
   "name": "delete_s_h.ipynb",
   "provenance": []
  },
  "kernelspec": {
   "display_name": "Python 3 (ipykernel)",
   "language": "python",
   "name": "python3"
  },
  "language_info": {
   "codemirror_mode": {
    "name": "ipython",
    "version": 3
   },
   "file_extension": ".py",
   "mimetype": "text/x-python",
   "name": "python",
   "nbconvert_exporter": "python",
   "pygments_lexer": "ipython3",
   "version": "3.9.7"
  }
 },
 "nbformat": 4,
 "nbformat_minor": 5
}
