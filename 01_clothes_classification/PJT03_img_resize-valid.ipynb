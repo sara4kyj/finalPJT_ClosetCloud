{
 "cells": [
  {
   "cell_type": "code",
   "execution_count": 3,
   "metadata": {
    "colab": {
     "base_uri": "https://localhost:8080/",
     "height": 136
    },
    "id": "4M8Er0Ntw-xa",
    "outputId": "4af22314-9d46-4847-913d-806764508dbf"
   },
   "outputs": [],
   "source": [
    "import os\n",
    "import numpy as np\n",
    "import cv2\n",
    "from PIL import Image\n",
    "import glob"
   ]
  },
  {
   "cell_type": "code",
   "execution_count": 4,
   "metadata": {
    "id": "nXlzECHvyJwI"
   },
   "outputs": [],
   "source": [
    "def resize (image, size):\n",
    "    h, w = image.shape[:2]\n",
    "    aspect = w / h\n",
    "    nh = nw = size\n",
    "    if 1 >= aspect:\n",
    "        nw = round(nh * aspect)\n",
    "    else:\n",
    "        nh = round(nw / aspect)\n",
    "\n",
    "    resized = cv2.resize(image, dsize=(nw, nh))\n",
    "\n",
    "    return resized"
   ]
  },
  {
   "cell_type": "code",
   "execution_count": 5,
   "metadata": {
    "id": "hLii19uszWOW"
   },
   "outputs": [],
   "source": [
    "def shiroume (image, size):\n",
    "    resized = resize(image, size)\n",
    "\n",
    "    h, w = resized.shape[:2]\n",
    "    x = y = 0\n",
    "    if h < w:\n",
    "        y = (size - h) // 2\n",
    "    else:\n",
    "        x = (size - w) // 2\n",
    "\n",
    "    resized = Image.fromarray(resized) # PIL 형식으로 변환\n",
    "    canvas = Image.new(resized.mode, (size, size), (255, 255, 255)) # 검정 채우면(0,0,0)\n",
    "    canvas.paste(resized, (x, y))\n",
    "\n",
    "    dst = np.array(canvas) # numpy (OpenCV) 형식으로 되돌리기\n",
    "\n",
    "    return dst"
   ]
  },
  {
   "cell_type": "code",
   "execution_count": 9,
   "metadata": {
    "colab": {
     "base_uri": "https://localhost:8080/"
    },
    "id": "D6X__VLUzwny",
    "outputId": "86d3b72f-6130-4227-8c62-163c579ddc8c"
   },
   "outputs": [
    {
     "data": {
      "text/plain": [
       "True"
      ]
     },
     "execution_count": 9,
     "metadata": {},
     "output_type": "execute_result"
    }
   ],
   "source": [
    "image = cv2.imread('./img/1015081_F.jpg')\n",
    "ume_image = shiroume(image, 1280) # 크기 조정을 원하는 크기 지정\n",
    "cv2.imwrite('./1.jpg', ume_image) "
   ]
  },
  {
   "cell_type": "code",
   "execution_count": 1,
   "metadata": {},
   "outputs": [],
   "source": [
    "s_path = './dataset/Validation/Item-Image/*'"
   ]
  },
  {
   "cell_type": "code",
   "execution_count": 6,
   "metadata": {},
   "outputs": [
    {
     "data": {
      "text/plain": [
       "'bottoms'"
      ]
     },
     "execution_count": 6,
     "metadata": {},
     "output_type": "execute_result"
    }
   ],
   "source": [
    "glob.glob(s_path)[0].split('\\\\')[1].split('.')[0]"
   ]
  },
  {
   "cell_type": "code",
   "execution_count": 7,
   "metadata": {},
   "outputs": [],
   "source": [
    "file_list = glob.glob(s_path)"
   ]
  },
  {
   "cell_type": "code",
   "execution_count": 9,
   "metadata": {},
   "outputs": [
    {
     "data": {
      "text/plain": [
       "['./dataset/Validation/Item-Image\\\\bottoms',\n",
       " './dataset/Validation/Item-Image\\\\one-piece',\n",
       " './dataset/Validation/Item-Image\\\\outerwear',\n",
       " './dataset/Validation/Item-Image\\\\tops']"
      ]
     },
     "execution_count": 9,
     "metadata": {},
     "output_type": "execute_result"
    }
   ],
   "source": [
    "file_list"
   ]
  },
  {
   "cell_type": "code",
   "execution_count": 10,
   "metadata": {
    "id": "nP4ktjEIz9N4"
   },
   "outputs": [],
   "source": [
    "# 이미지 파일 라벨 기준 분류 작업\n",
    "import shutil\n",
    "\n",
    "for folder in file_list:\n",
    "    for file in glob.glob(folder+'/*.jpg'):\n",
    "        image = cv2.imread(file)\n",
    "        ume_image = shiroume(image, 1280) # 크기 조정을 원하는 크기 지정\n",
    "        cv2.imwrite(file, ume_image) "
   ]
  },
  {
   "cell_type": "code",
   "execution_count": null,
   "metadata": {},
   "outputs": [],
   "source": []
  }
 ],
 "metadata": {
  "colab": {
   "name": "PJT03_img_resize.ipynb",
   "provenance": []
  },
  "kernelspec": {
   "display_name": "Python 3 (ipykernel)",
   "language": "python",
   "name": "python3"
  },
  "language_info": {
   "codemirror_mode": {
    "name": "ipython",
    "version": 3
   },
   "file_extension": ".py",
   "mimetype": "text/x-python",
   "name": "python",
   "nbconvert_exporter": "python",
   "pygments_lexer": "ipython3",
   "version": "3.9.7"
  }
 },
 "nbformat": 4,
 "nbformat_minor": 1
}
